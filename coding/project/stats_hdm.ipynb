{
 "cells": [
  {
   "cell_type": "code",
   "execution_count": 1,
   "metadata": {},
   "outputs": [
    {
     "name": "stdout",
     "output_type": "stream",
     "text": [
      "<class 'pandas.core.frame.DataFrame'>\n",
      "RangeIndex: 1600 entries, 0 to 1599\n",
      "Data columns (total 17 columns):\n",
      " #   Column          Non-Null Count  Dtype  \n",
      "---  ------          --------------  -----  \n",
      " 0   hour_of_day     1600 non-null   int64  \n",
      " 1   day_of_week     1600 non-null   int64  \n",
      " 2   month           1600 non-null   int64  \n",
      " 3   holiday         1600 non-null   int64  \n",
      " 4   weekday         1600 non-null   int64  \n",
      " 5   summertime      1600 non-null   int64  \n",
      " 6   temp            1600 non-null   float64\n",
      " 7   dew             1600 non-null   float64\n",
      " 8   humidity        1600 non-null   float64\n",
      " 9   precip          1600 non-null   float64\n",
      " 10  snow            1600 non-null   int64  \n",
      " 11  snowdepth       1600 non-null   float64\n",
      " 12  windspeed       1600 non-null   float64\n",
      " 13  cloudcover      1600 non-null   float64\n",
      " 14  visibility      1600 non-null   float64\n",
      " 15  increase_stock  1600 non-null   object \n",
      " 16  need            1600 non-null   bool   \n",
      "dtypes: bool(1), float64(8), int64(7), object(1)\n",
      "memory usage: 201.7+ KB\n",
      "[0.         0.         0.         0.         0.         0.\n",
      " 0.         0.02597403 0.1969697  0.17460317 0.15873016 0.22413793\n",
      " 0.3030303  0.21794872 0.25714286 0.515625   0.46987952 0.59722222\n",
      " 0.73584906 0.43859649 0.07272727 0.         0.01785714 0.        ]\n"
     ]
    },
    {
     "data": {
      "image/png": "[encoded data removed]",
      "text/plain": [
       "<Figure size 640x480 with 1 Axes>"
      ]
     },
     "metadata": {},
     "output_type": "display_data"
    }
   ],
   "source": [
    "import pandas as pd\n",
    "import numpy as np\n",
    "from matplotlib import pyplot as plt\n",
    "\n",
    "dat = pd.read_csv( \"training.csv\")\n",
    "dat['need'] = dat['increase_stock'] == 'high_bike_demand'\n",
    "dat.info()\n",
    "time = np.zeros(24)\n",
    "for i in range(24):\n",
    "    time[i] = np.mean(dat[dat['hour_of_day'] == i][\"need\"])\n",
    "\n",
    "day = np.zeros(7)\n",
    "for i in range(7):\n",
    "    day[i] = np.mean(dat[dat['day_of_week'] == i][\"need\"])\n",
    "\n",
    "month = np.zeros(12)\n",
    "for i in range(12):\n",
    "    month[i] = np.mean(dat[dat['month'] == i][\"need\"])\n",
    "\n",
    "print(time)\n",
    "#plt.bar(range(24),time)\n",
    "plt.bar(range(7),day)\n",
    "#plt.bar(range(12),month)\n",
    "plt.show()\n",
    "\n"
   ]
  }
 ],
 "metadata": {
  "kernelspec": {
   "display_name": "Python 3",
   "language": "python",
   "name": "python3"
  },
  "language_info": {
   "codemirror_mode": {
    "name": "ipython",
    "version": 3
   },
   "file_extension": ".py",
   "mimetype": "text/x-python",
   "name": "python",
   "nbconvert_exporter": "python",
   "pygments_lexer": "ipython3",
   "version": "3.11.10"
  }
 },
 "nbformat": 4,
 "nbformat_minor": 2
}

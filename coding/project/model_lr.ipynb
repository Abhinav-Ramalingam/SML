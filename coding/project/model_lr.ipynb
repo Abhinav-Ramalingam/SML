{
 "cells": [
  {
   "cell_type": "code",
   "execution_count": 1,
   "id": "9d96869e-e0c0-4019-87f6-394f03e47739",
   "metadata": {},
   "outputs": [
    {
     "name": "stdout",
     "output_type": "stream",
     "text": [
      "Fitting 5 folds for each of 150 candidates, totalling 750 fits\n",
      "[CV] END C=0.01, class_weight={0: 1, 1: 1.5}, l1_ratio=0.1, max_iter=1000, penalty=elasticnet, solver=saga; total time=   0.0s\n",
      "[CV] END C=0.01, class_weight={0: 1, 1: 1.5}, l1_ratio=0.1, max_iter=5000, penalty=elasticnet, solver=saga; total time=   0.0s\n",
      "[CV] END C=0.01, class_weight={0: 1, 1: 1.5}, l1_ratio=0.1, max_iter=1000, penalty=elasticnet, solver=saga; total time=   0.0s\n",
      "[CV] END C=0.01, class_weight={0: 1, 1: 1.5}, l1_ratio=0.1, max_iter=1000, penalty=elasticnet, solver=saga; total time=   0.0s\n",
      "[CV] END C=0.01, class_weight={0: 1, 1: 1.5}, l1_ratio=0.1, max_iter=5000, penalty=elasticnet, solver=saga; total time=   0.0s\n",
      "[CV] END C=0.01, class_weight={0: 1, 1: 1.5}, l1_ratio=0.3, max_iter=1000, penalty=elasticnet, solver=saga; total time=   0.0s\n",
      "[CV] END C=0.01, class_weight={0: 1, 1: 1.5}, l1_ratio=0.1, max_iter=1000, penalty=elasticnet, solver=saga; total time=   0.0s\n",
      "[CV] END C=0.01, class_weight={0: 1, 1: 1.5}, l1_ratio=0.1, max_iter=5000, penalty=elasticnet, solver=saga; total time=   0.0s\n",
      "[CV] END C=0.01, class_weight={0: 1, 1: 1.5}, l1_ratio=0.3, max_iter=1000, penalty=elasticnet, solver=saga; total time=   0.0s\n",
      "[CV] END C=0.01, class_weight={0: 1, 1: 1.5}, l1_ratio=0.3, max_iter=1000, penalty=elasticnet, solver=saga; total time=   0.0s\n",
      "[CV] END C=0.01, class_weight={0: 1, 1: 1.5}, l1_ratio=0.3, max_iter=1000, penalty=elasticnet, solver=saga; total time=   0.0s\n",
      "[CV] END C=0.01, class_weight={0: 1, 1: 1.5}, l1_ratio=0.3, max_iter=1000, penalty=elasticnet, solver=saga; total time=   0.0s\n",
      "[CV] END C=0.01, class_weight={0: 1, 1: 1.5}, l1_ratio=0.3, max_iter=5000, penalty=elasticnet, solver=saga; total time=   0.0s\n",
      "[CV] END C=0.01, class_weight={0: 1, 1: 1.5}, l1_ratio=0.3, max_iter=5000, penalty=elasticnet, solver=saga; total time=   0.0s\n",
      "[CV] END C=0.01, class_weight={0: 1, 1: 1.5}, l1_ratio=0.3, max_iter=5000, penalty=elasticnet, solver=saga; total time=   0.0s\n",
      "[CV] END C=0.01, class_weight={0: 1, 1: 1.5}, l1_ratio=0.3, max_iter=5000, penalty=elasticnet, solver=saga; total time=   0.0s\n",
      "[CV] END C=0.01, class_weight={0: 1, 1: 1.5}, l1_ratio=0.5, max_iter=1000, penalty=elasticnet, solver=saga; total time=   0.0s\n",
      "[CV] END C=0.01, class_weight={0: 1, 1: 1.5}, l1_ratio=0.3, max_iter=5000, penalty=elasticnet, solver=saga; total time=   0.0s\n",
      "[CV] END C=0.01, class_weight={0: 1, 1: 1.5}, l1_ratio=0.5, max_iter=1000, penalty=elasticnet, solver=saga; total time=   0.0s\n",
      "[CV] END C=0.01, class_weight={0: 1, 1: 1.5}, l1_ratio=0.5, max_iter=1000, penalty=elasticnet, solver=saga; total time=   0.0s\n",
      "[CV] END C=0.01, class_weight={0: 1, 1: 1.5}, l1_ratio=0.5, max_iter=5000, penalty=elasticnet, solver=saga; total time=   0.0s\n",
      "[CV] END C=0.01, class_weight={0: 1, 1: 1.5}, l1_ratio=0.5, max_iter=1000, penalty=elasticnet, solver=saga; total time=   0.0s\n",
      "[CV] END C=0.01, class_weight={0: 1, 1: 1.5}, l1_ratio=0.5, max_iter=1000, penalty=elasticnet, solver=saga; total time=   0.0s\n",
      "[CV] END C=0.01, class_weight={0: 1, 1: 1.5}, l1_ratio=0.5, max_iter=5000, penalty=elasticnet, solver=saga; total time=   0.0s\n",
      "[CV] END C=0.01, class_weight={0: 1, 1: 1.5}, l1_ratio=0.5, max_iter=5000, penalty=elasticnet, solver=saga; total time=   0.0s\n",
      "[CV] END C=0.01, class_weight={0: 1, 1: 1.5}, l1_ratio=0.5, max_iter=5000, penalty=elasticnet, solver=saga; total time=   0.0s\n",
      "[CV] END C=0.01, class_weight={0: 1, 1: 1.5}, l1_ratio=0.5, max_iter=5000, penalty=elasticnet, solver=saga; total time=   0.0s\n",
      "[CV] END C=0.01, class_weight={0: 1, 1: 1.5}, l1_ratio=0.1, max_iter=1000, penalty=elasticnet, solver=saga; total time=   0.0s\n",
      "[CV] END C=0.01, class_weight={0: 1, 1: 1.5}, l1_ratio=0.7, max_iter=1000, penalty=elasticnet, solver=saga; total time=   0.0s\n",
      "[CV] END C=0.01, class_weight={0: 1, 1: 1.5}, l1_ratio=0.7, max_iter=1000, penalty=elasticnet, solver=saga; total time=   0.0s\n",
      "[CV] END C=0.01, class_weight={0: 1, 1: 1.5}, l1_ratio=0.7, max_iter=1000, penalty=elasticnet, solver=saga; total time=   0.0s\n",
      "[CV] END C=0.01, class_weight={0: 1, 1: 1.5}, l1_ratio=0.1, max_iter=5000, penalty=elasticnet, solver=saga; total time=   0.0s\n",
      "[CV] END C=0.01, class_weight={0: 1, 1: 1.5}, l1_ratio=0.7, max_iter=1000, penalty=elasticnet, solver=saga; total time=   0.0s\n",
      "[CV] END C=0.01, class_weight={0: 1, 1: 1.5}, l1_ratio=0.7, max_iter=1000, penalty=elasticnet, solver=saga; total time=   0.0s\n",
      "[CV] END C=0.01, class_weight={0: 1, 1: 1.5}, l1_ratio=0.7, max_iter=5000, penalty=elasticnet, solver=saga; total time=   0.0s\n",
      "[CV] END C=0.01, class_weight={0: 1, 1: 1.5}, l1_ratio=0.7, max_iter=5000, penalty=elasticnet, solver=saga; total time=   0.0s\n",
      "[CV] END C=0.01, class_weight={0: 1, 1: 1.5}, l1_ratio=0.7, max_iter=5000, penalty=elasticnet, solver=saga; total time=   0.0s\n",
      "[CV] END C=0.01, class_weight={0: 1, 1: 1.5}, l1_ratio=0.1, max_iter=5000, penalty=elasticnet, solver=saga; total time=   0.0s\n",
      "[CV] END C=0.01, class_weight={0: 1, 1: 1.5}, l1_ratio=0.7, max_iter=5000, penalty=elasticnet, solver=saga; total time=   0.0s\n",
      "[CV] END C=0.01, class_weight={0: 1, 1: 1.5}, l1_ratio=0.7, max_iter=5000, penalty=elasticnet, solver=saga; total time=   0.0s\n",
      "[CV] END C=0.01, class_weight={0: 1, 1: 1.5}, l1_ratio=0.9, max_iter=1000, penalty=elasticnet, solver=saga; total time=   0.0s\n",
      "[CV] END C=0.01, class_weight={0: 1, 1: 1.5}, l1_ratio=0.9, max_iter=1000, penalty=elasticnet, solver=saga; total time=   0.0s\n",
      "[CV] END C=0.01, class_weight={0: 1, 1: 1.5}, l1_ratio=0.9, max_iter=1000, penalty=elasticnet, solver=saga; total time=   0.0s\n",
      "[CV] END C=0.01, class_weight={0: 1, 1: 1.5}, l1_ratio=0.9, max_iter=5000, penalty=elasticnet, solver=saga; total time=   0.0s\n",
      "[CV] END C=0.01, class_weight={0: 1, 1: 1.5}, l1_ratio=0.9, max_iter=5000, penalty=elasticnet, solver=saga; total time=   0.0s\n",
      "[CV] END C=0.01, class_weight={0: 1, 1: 1.5}, l1_ratio=0.9, max_iter=1000, penalty=elasticnet, solver=saga; total time=   0.0s\n",
      "[CV] END C=0.01, class_weight={0: 1, 1: 1.5}, l1_ratio=0.9, max_iter=5000, penalty=elasticnet, solver=saga; total time=   0.0s\n",
      "[CV] END C=0.01, class_weight={0: 1, 1: 1.5}, l1_ratio=0.9, max_iter=1000, penalty=elasticnet, solver=saga; total time=   0.0s\n",
      "[CV] END C=0.01, class_weight={0: 1, 1: 1.5}, l1_ratio=0.9, max_iter=5000, penalty=elasticnet, solver=saga; total time=   0.0s\n",
      "[CV] END C=0.01, class_weight={0: 1, 1: 1.5}, l1_ratio=0.9, max_iter=5000, penalty=elasticnet, solver=saga; total time=   0.0s\n",
      "[CV] END C=0.01, class_weight={0: 1, 1: 2}, l1_ratio=0.1, max_iter=1000, penalty=elasticnet, solver=saga; total time=   0.0s\n",
      "[CV] END C=0.01, class_weight={0: 1, 1: 2}, l1_ratio=0.1, max_iter=1000, penalty=elasticnet, solver=saga; total time=   0.0s\n",
      "[CV] END C=0.01, class_weight={0: 1, 1: 2}, l1_ratio=0.1, max_iter=1000, penalty=elasticnet, solver=saga; total time=   0.0s\n",
      "[CV] END C=0.01, class_weight={0: 1, 1: 2}, l1_ratio=0.1, max_iter=1000, penalty=elasticnet, solver=saga; total time=   0.0s\n",
      "[CV] END C=0.01, class_weight={0: 1, 1: 2}, l1_ratio=0.1, max_iter=5000, penalty=elasticnet, solver=saga; total time=   0.0s\n",
      "[CV] END C=0.01, class_weight={0: 1, 1: 2}, l1_ratio=0.1, max_iter=5000, penalty=elasticnet, solver=saga; total time=   0.0s\n",
      "[CV] END C=0.01, class_weight={0: 1, 1: 2}, l1_ratio=0.3, max_iter=1000, penalty=elasticnet, solver=saga; total time=   0.0s\n",
      "[CV] END C=0.01, class_weight={0: 1, 1: 2}, l1_ratio=0.1, max_iter=1000, penalty=elasticnet, solver=saga; total time=   0.0s\n",
      "[CV] END C=0.01, class_weight={0: 1, 1: 2}, l1_ratio=0.1, max_iter=5000, penalty=elasticnet, solver=saga; total time=   0.0s\n",
      "[CV] END C=0.01, class_weight={0: 1, 1: 2}, l1_ratio=0.1, max_iter=5000, penalty=elasticnet, solver=saga; total time=   0.0s\n",
      "[CV] END C=0.01, class_weight={0: 1, 1: 2}, l1_ratio=0.1, max_iter=5000, penalty=elasticnet, solver=saga; total time=   0.0s\n",
      "[CV] END C=0.01, class_weight={0: 1, 1: 2}, l1_ratio=0.3, max_iter=1000, penalty=elasticnet, solver=saga; total time=   0.0s\n",
      "[CV] END C=0.01, class_weight={0: 1, 1: 2}, l1_ratio=0.3, max_iter=1000, penalty=elasticnet, solver=saga; total time=   0.0s\n",
      "[CV] END C=0.01, class_weight={0: 1, 1: 2}, l1_ratio=0.3, max_iter=1000, penalty=elasticnet, solver=saga; total time=   0.0s\n",
      "[CV] END C=0.01, class_weight={0: 1, 1: 2}, l1_ratio=0.3, max_iter=5000, penalty=elasticnet, solver=saga; total time=   0.0s\n",
      "[CV] END C=0.01, class_weight={0: 1, 1: 2}, l1_ratio=0.3, max_iter=5000, penalty=elasticnet, solver=saga; total time=   0.0s\n",
      "[CV] END C=0.01, class_weight={0: 1, 1: 2}, l1_ratio=0.3, max_iter=1000, penalty=elasticnet, solver=saga; total time=   0.0s\n",
      "[CV] END C=0.01, class_weight={0: 1, 1: 2}, l1_ratio=0.3, max_iter=5000, penalty=elasticnet, solver=saga; total time=   0.0s\n",
      "[CV] END C=0.01, class_weight={0: 1, 1: 2}, l1_ratio=0.3, max_iter=5000, penalty=elasticnet, solver=saga; total time=   0.0s\n",
      "[CV] END C=0.01, class_weight={0: 1, 1: 2}, l1_ratio=0.5, max_iter=1000, penalty=elasticnet, solver=saga; total time=   0.0s\n",
      "[CV] END C=0.01, class_weight={0: 1, 1: 2}, l1_ratio=0.3, max_iter=5000, penalty=elasticnet, solver=saga; total time=   0.0s\n",
      "[CV] END C=0.01, class_weight={0: 1, 1: 2}, l1_ratio=0.5, max_iter=1000, penalty=elasticnet, solver=saga; total time=   0.0s\n",
      "[CV] END C=0.01, class_weight={0: 1, 1: 2}, l1_ratio=0.5, max_iter=5000, penalty=elasticnet, solver=saga; total time=   0.0s\n",
      "[CV] END C=0.01, class_weight={0: 1, 1: 2}, l1_ratio=0.7, max_iter=1000, penalty=elasticnet, solver=saga; total time=   0.0s\n",
      "[CV] END C=0.01, class_weight={0: 1, 1: 2}, l1_ratio=0.5, max_iter=1000, penalty=elasticnet, solver=saga; total time=   0.0s\n",
      "[CV] END C=0.01, class_weight={0: 1, 1: 2}, l1_ratio=0.7, max_iter=1000, penalty=elasticnet, solver=saga; total time=   0.0s\n",
      "[CV] END C=0.01, class_weight={0: 1, 1: 2}, l1_ratio=0.5, max_iter=5000, penalty=elasticnet, solver=saga; total time=   0.0s\n",
      "[CV] END C=0.01, class_weight={0: 1, 1: 2}, l1_ratio=0.7, max_iter=1000, penalty=elasticnet, solver=saga; total time=   0.0s\n",
      "[CV] END C=0.01, class_weight={0: 1, 1: 2}, l1_ratio=0.5, max_iter=1000, penalty=elasticnet, solver=saga; total time=   0.0s\n",
      "[CV] END C=0.01, class_weight={0: 1, 1: 2}, l1_ratio=0.7, max_iter=5000, penalty=elasticnet, solver=saga; total time=   0.0s\n",
      "[CV] END C=0.01, class_weight={0: 1, 1: 2}, l1_ratio=0.7, max_iter=5000, penalty=elasticnet, solver=saga; total time=   0.0s\n",
      "[CV] END C=0.01, class_weight={0: 1, 1: 2}, l1_ratio=0.9, max_iter=1000, penalty=elasticnet, solver=saga; total time=   0.0s\n",
      "[CV] END C=0.01, class_weight={0: 1, 1: 2.5}, l1_ratio=0.1, max_iter=1000, penalty=elasticnet, solver=saga; total time=   0.0s\n",
      "[CV] END C=0.01, class_weight={0: 1, 1: 2}, l1_ratio=0.9, max_iter=5000, penalty=elasticnet, solver=saga; total time=   0.0s\n",
      "[CV] END C=0.01, class_weight={0: 1, 1: 2}, l1_ratio=0.7, max_iter=5000, penalty=elasticnet, solver=saga; total time=   0.0s\n",
      "[CV] END C=0.01, class_weight={0: 1, 1: 2}, l1_ratio=0.5, max_iter=5000, penalty=elasticnet, solver=saga; total time=   0.0s\n",
      "[CV] END C=0.01, class_weight={0: 1, 1: 2}, l1_ratio=0.7, max_iter=5000, penalty=elasticnet, solver=saga; total time=   0.0s\n",
      "[CV] END C=0.01, class_weight={0: 1, 1: 2}, l1_ratio=0.5, max_iter=1000, penalty=elasticnet, solver=saga; total time=   0.0s\n",
      "[CV] END C=0.01, class_weight={0: 1, 1: 2.5}, l1_ratio=0.1, max_iter=1000, penalty=elasticnet, solver=saga; total time=   0.0s\n",
      "[CV] END C=0.01, class_weight={0: 1, 1: 2}, l1_ratio=0.9, max_iter=1000, penalty=elasticnet, solver=saga; total time=   0.0s\n",
      "[CV] END C=0.01, class_weight={0: 1, 1: 2}, l1_ratio=0.7, max_iter=1000, penalty=elasticnet, solver=saga; total time=   0.0s\n",
      "[CV] END C=0.01, class_weight={0: 1, 1: 2}, l1_ratio=0.9, max_iter=1000, penalty=elasticnet, solver=saga; total time=   0.0s\n",
      "[CV] END C=0.01, class_weight={0: 1, 1: 2}, l1_ratio=0.5, max_iter=5000, penalty=elasticnet, solver=saga; total time=   0.0s\n",
      "[CV] END C=0.01, class_weight={0: 1, 1: 2.5}, l1_ratio=0.1, max_iter=1000, penalty=elasticnet, solver=saga; total time=   0.0s\n",
      "[CV] END C=0.01, class_weight={0: 1, 1: 2}, l1_ratio=0.7, max_iter=5000, penalty=elasticnet, solver=saga; total time=   0.0s\n",
      "[CV] END C=0.01, class_weight={0: 1, 1: 2}, l1_ratio=0.9, max_iter=5000, penalty=elasticnet, solver=saga; total time=   0.0s\n",
      "[CV] END C=0.01, class_weight={0: 1, 1: 2}, l1_ratio=0.7, max_iter=1000, penalty=elasticnet, solver=saga; total time=   0.0s\n",
      "[CV] END C=0.01, class_weight={0: 1, 1: 2}, l1_ratio=0.9, max_iter=1000, penalty=elasticnet, solver=saga; total time=   0.0s\n",
      "[CV] END C=0.01, class_weight={0: 1, 1: 2}, l1_ratio=0.9, max_iter=1000, penalty=elasticnet, solver=saga; total time=   0.0s\n",
      "[CV] END C=0.01, class_weight={0: 1, 1: 2}, l1_ratio=0.5, max_iter=5000, penalty=elasticnet, solver=saga; total time=   0.0s\n",
      "[CV] END C=0.01, class_weight={0: 1, 1: 2.5}, l1_ratio=0.1, max_iter=1000, penalty=elasticnet, solver=saga; total time=   0.0s\n",
      "[CV] END C=0.01, class_weight={0: 1, 1: 2}, l1_ratio=0.9, max_iter=5000, penalty=elasticnet, solver=saga; total time=   0.0s\n",
      "[CV] END C=0.01, class_weight={0: 1, 1: 2}, l1_ratio=0.9, max_iter=5000, penalty=elasticnet, solver=saga; total time=   0.0s\n",
      "[CV] END C=0.01, class_weight={0: 1, 1: 2.5}, l1_ratio=0.1, max_iter=1000, penalty=elasticnet, solver=saga; total time=   0.0s\n",
      "[CV] END C=0.01, class_weight={0: 1, 1: 2}, l1_ratio=0.9, max_iter=5000, penalty=elasticnet, solver=saga; total time=   0.0s\n",
      "[CV] END C=0.01, class_weight={0: 1, 1: 2.5}, l1_ratio=0.1, max_iter=5000, penalty=elasticnet, solver=saga; total time=   0.0s\n",
      "[CV] END C=0.01, class_weight={0: 1, 1: 2.5}, l1_ratio=0.1, max_iter=5000, penalty=elasticnet, solver=saga; total time=   0.0s\n",
      "[CV] END C=0.01, class_weight={0: 1, 1: 2.5}, l1_ratio=0.3, max_iter=1000, penalty=elasticnet, solver=saga; total time=   0.0s\n",
      "[CV] END C=0.01, class_weight={0: 1, 1: 2.5}, l1_ratio=0.3, max_iter=5000, penalty=elasticnet, solver=saga; total time=   0.0s[CV] END C=0.01, class_weight={0: 1, 1: 2.5}, l1_ratio=0.5, max_iter=1000, penalty=elasticnet, solver=saga; total time=   0.0s\n",
      "\n",
      "[CV] END C=0.01, class_weight={0: 1, 1: 2.5}, l1_ratio=0.5, max_iter=1000, penalty=elasticnet, solver=saga; total time=   0.0s\n",
      "[CV] END C=0.01, class_weight={0: 1, 1: 2.5}, l1_ratio=0.1, max_iter=5000, penalty=elasticnet, solver=saga; total time=   0.0s\n",
      "[CV] END C=0.01, class_weight={0: 1, 1: 2.5}, l1_ratio=0.3, max_iter=1000, penalty=elasticnet, solver=saga; total time=   0.0s\n",
      "[CV] END C=0.01, class_weight={0: 1, 1: 2.5}, l1_ratio=0.1, max_iter=5000, penalty=elasticnet, solver=saga; total time=   0.0s\n",
      "[CV] END C=0.01, class_weight={0: 1, 1: 2.5}, l1_ratio=0.5, max_iter=5000, penalty=elasticnet, solver=saga; total time=   0.0s\n",
      "[CV] END C=0.01, class_weight={0: 1, 1: 2.5}, l1_ratio=0.3, max_iter=1000, penalty=elasticnet, solver=saga; total time=   0.0s\n",
      "[CV] END C=0.01, class_weight={0: 1, 1: 2.5}, l1_ratio=0.3, max_iter=1000, penalty=elasticnet, solver=saga; total time=   0.0s\n",
      "[CV] END C=0.01, class_weight={0: 1, 1: 2.5}, l1_ratio=0.5, max_iter=5000, penalty=elasticnet, solver=saga; total time=   0.0s\n",
      "[CV] END C=0.01, class_weight={0: 1, 1: 2.5}, l1_ratio=0.3, max_iter=5000, penalty=elasticnet, solver=saga; total time=   0.0s\n",
      "[CV] END C=0.01, class_weight={0: 1, 1: 2.5}, l1_ratio=0.5, max_iter=1000, penalty=elasticnet, solver=saga; total time=   0.0s\n",
      "[CV] END C=0.01, class_weight={0: 1, 1: 2.5}, l1_ratio=0.5, max_iter=5000, penalty=elasticnet, solver=saga; total time=   0.0s\n",
      "[CV] END C=0.01, class_weight={0: 1, 1: 2.5}, l1_ratio=0.3, max_iter=1000, penalty=elasticnet, solver=saga; total time=   0.0s\n",
      "[CV] END C=0.01, class_weight={0: 1, 1: 2.5}, l1_ratio=0.1, max_iter=5000, penalty=elasticnet, solver=saga; total time=   0.0s\n",
      "[CV] END C=0.01, class_weight={0: 1, 1: 2.5}, l1_ratio=0.5, max_iter=5000, penalty=elasticnet, solver=saga; total time=   0.0s\n",
      "[CV] END C=0.01, class_weight={0: 1, 1: 2.5}, l1_ratio=0.3, max_iter=5000, penalty=elasticnet, solver=saga; total time=   0.0s\n",
      "[CV] END C=0.01, class_weight={0: 1, 1: 2.5}, l1_ratio=0.3, max_iter=5000, penalty=elasticnet, solver=saga; total time=   0.0s\n",
      "[CV] END C=0.01, class_weight={0: 1, 1: 2.5}, l1_ratio=0.5, max_iter=5000, penalty=elasticnet, solver=saga; total time=   0.0s\n",
      "[CV] END C=0.01, class_weight={0: 1, 1: 2.5}, l1_ratio=0.7, max_iter=1000, penalty=elasticnet, solver=saga; total time=   0.0s\n",
      "[CV] END C=0.01, class_weight={0: 1, 1: 2.5}, l1_ratio=0.3, max_iter=5000, penalty=elasticnet, solver=saga; total time=   0.0s\n",
      "[CV] END C=0.01, class_weight={0: 1, 1: 2.5}, l1_ratio=0.7, max_iter=5000, penalty=elasticnet, solver=saga; total time=   0.0s\n",
      "[CV] END C=0.01, class_weight={0: 1, 1: 2.5}, l1_ratio=0.7, max_iter=1000, penalty=elasticnet, solver=saga; total time=   0.0s\n",
      "[CV] END C=0.01, class_weight={0: 1, 1: 2.5}, l1_ratio=0.5, max_iter=1000, penalty=elasticnet, solver=saga; total time=   0.0s\n",
      "[CV] END C=0.01, class_weight={0: 1, 1: 2.5}, l1_ratio=0.9, max_iter=1000, penalty=elasticnet, solver=saga; total time=   0.0s\n",
      "[CV] END C=0.01, class_weight={0: 1, 1: 2.5}, l1_ratio=0.7, max_iter=1000, penalty=elasticnet, solver=saga; total time=   0.0s\n",
      "[CV] END C=0.01, class_weight={0: 1, 1: 2.5}, l1_ratio=0.7, max_iter=1000, penalty=elasticnet, solver=saga; total time=   0.0s\n",
      "[CV] END C=0.01, class_weight={0: 1, 1: 2.5}, l1_ratio=0.5, max_iter=1000, penalty=elasticnet, solver=saga; total time=   0.0s\n",
      "[CV] END C=0.01, class_weight={0: 1, 1: 2.5}, l1_ratio=0.7, max_iter=5000, penalty=elasticnet, solver=saga; total time=   0.0s\n",
      "[CV] END C=0.01, class_weight={0: 1, 1: 2.5}, l1_ratio=0.7, max_iter=1000, penalty=elasticnet, solver=saga; total time=   0.0s\n",
      "[CV] END C=0.01, class_weight={0: 1, 1: 2.5}, l1_ratio=0.9, max_iter=5000, penalty=elasticnet, solver=saga; total time=   0.0s\n",
      "[CV] END C=0.01, class_weight={0: 1, 1: 2.5}, l1_ratio=0.7, max_iter=5000, penalty=elasticnet, solver=saga; total time=   0.0s\n",
      "[CV] END C=0.01, class_weight={0: 1, 1: 2.5}, l1_ratio=0.9, max_iter=5000, penalty=elasticnet, solver=saga; total time=   0.0s\n",
      "[CV] END C=0.01, class_weight={0: 1, 1: 2.5}, l1_ratio=0.7, max_iter=5000, penalty=elasticnet, solver=saga; total time=   0.0s\n",
      "[CV] END C=0.1, class_weight={0: 1, 1: 1.5}, l1_ratio=0.1, max_iter=1000, penalty=elasticnet, solver=saga; total time=   0.0s\n",
      "[CV] END C=0.01, class_weight={0: 1, 1: 2.5}, l1_ratio=0.7, max_iter=5000, penalty=elasticnet, solver=saga; total time=   0.0s\n",
      "[CV] END C=0.01, class_weight={0: 1, 1: 2.5}, l1_ratio=0.9, max_iter=5000, penalty=elasticnet, solver=saga; total time=   0.0s\n",
      "[CV] END C=0.1, class_weight={0: 1, 1: 1.5}, l1_ratio=0.3, max_iter=5000, penalty=elasticnet, solver=saga; total time=   0.0s\n",
      "[CV] END C=0.1, class_weight={0: 1, 1: 1.5}, l1_ratio=0.3, max_iter=1000, penalty=elasticnet, solver=saga; total time=   0.0s\n",
      "[CV] END C=0.01, class_weight={0: 1, 1: 2.5}, l1_ratio=0.9, max_iter=5000, penalty=elasticnet, solver=saga; total time=   0.0s\n",
      "[CV] END C=0.1, class_weight={0: 1, 1: 1.5}, l1_ratio=0.7, max_iter=1000, penalty=elasticnet, solver=saga; total time=   0.0s\n",
      "[CV] END C=0.01, class_weight={0: 1, 1: 2.5}, l1_ratio=0.9, max_iter=5000, penalty=elasticnet, solver=saga; total time=   0.0s\n",
      "[CV] END C=0.1, class_weight={0: 1, 1: 1.5}, l1_ratio=0.5, max_iter=5000, penalty=elasticnet, solver=saga; total time=   0.0s\n",
      "[CV] END C=0.01, class_weight={0: 1, 1: 2.5}, l1_ratio=0.9, max_iter=1000, penalty=elasticnet, solver=saga; total time=   0.0s\n",
      "[CV] END C=0.01, class_weight={0: 1, 1: 2.5}, l1_ratio=0.9, max_iter=1000, penalty=elasticnet, solver=saga; total time=   0.0s\n",
      "[CV] END C=0.1, class_weight={0: 1, 1: 1.5}, l1_ratio=0.9, max_iter=1000, penalty=elasticnet, solver=saga; total time=   0.0s\n",
      "[CV] END C=0.1, class_weight={0: 1, 1: 1.5}, l1_ratio=0.5, max_iter=5000, penalty=elasticnet, solver=saga; total time=   0.0s\n",
      "[CV] END C=0.01, class_weight={0: 1, 1: 2.5}, l1_ratio=0.9, max_iter=1000, penalty=elasticnet, solver=saga; total time=   0.0s\n",
      "[CV] END C=0.01, class_weight={0: 1, 1: 2.5}, l1_ratio=0.9, max_iter=1000, penalty=elasticnet, solver=saga; total time=   0.0s\n",
      "[CV] END C=0.1, class_weight={0: 1, 1: 1.5}, l1_ratio=0.1, max_iter=1000, penalty=elasticnet, solver=saga; total time=   0.0s\n",
      "[CV] END C=0.1, class_weight={0: 1, 1: 1.5}, l1_ratio=0.7, max_iter=5000, penalty=elasticnet, solver=saga; total time=   0.0s\n",
      "[CV] END C=0.1, class_weight={0: 1, 1: 1.5}, l1_ratio=0.1, max_iter=1000, penalty=elasticnet, solver=saga; total time=   0.0s\n",
      "[CV] END C=0.1, class_weight={0: 1, 1: 1.5}, l1_ratio=0.3, max_iter=5000, penalty=elasticnet, solver=saga; total time=   0.0s\n",
      "[CV] END C=0.1, class_weight={0: 1, 1: 1.5}, l1_ratio=0.7, max_iter=5000, penalty=elasticnet, solver=saga; total time=   0.0s\n",
      "[CV] END C=0.1, class_weight={0: 1, 1: 1.5}, l1_ratio=0.9, max_iter=1000, penalty=elasticnet, solver=saga; total time=   0.0s\n",
      "[CV] END C=0.1, class_weight={0: 1, 1: 1.5}, l1_ratio=0.3, max_iter=1000, penalty=elasticnet, solver=saga; total time=   0.0s\n",
      "[CV] END C=0.1, class_weight={0: 1, 1: 1.5}, l1_ratio=0.5, max_iter=5000, penalty=elasticnet, solver=saga; total time=   0.0s\n",
      "[CV] END C=0.1, class_weight={0: 1, 1: 1.5}, l1_ratio=0.1, max_iter=1000, penalty=elasticnet, solver=saga; total time=   0.0s\n",
      "[CV] END C=0.1, class_weight={0: 1, 1: 2}, l1_ratio=0.1, max_iter=1000, penalty=elasticnet, solver=saga; total time=   0.0s\n",
      "[CV] END C=0.1, class_weight={0: 1, 1: 1.5}, l1_ratio=0.1, max_iter=1000, penalty=elasticnet, solver=saga; total time=   0.0s\n",
      "[CV] END C=0.1, class_weight={0: 1, 1: 1.5}, l1_ratio=0.9, max_iter=1000, penalty=elasticnet, solver=saga; total time=   0.0s\n",
      "[CV] END C=0.1, class_weight={0: 1, 1: 1.5}, l1_ratio=0.5, max_iter=1000, penalty=elasticnet, solver=saga; total time=   0.0s\n",
      "[CV] END C=0.1, class_weight={0: 1, 1: 1.5}, l1_ratio=0.3, max_iter=1000, penalty=elasticnet, solver=saga; total time=   0.0s\n",
      "[CV] END C=0.1, class_weight={0: 1, 1: 1.5}, l1_ratio=0.5, max_iter=5000, penalty=elasticnet, solver=saga; total time=   0.0s\n",
      "[CV] END C=0.1, class_weight={0: 1, 1: 1.5}, l1_ratio=0.7, max_iter=5000, penalty=elasticnet, solver=saga; total time=   0.0s\n",
      "[CV] END C=0.1, class_weight={0: 1, 1: 2}, l1_ratio=0.1, max_iter=1000, penalty=elasticnet, solver=saga; total time=   0.0s\n",
      "[CV] END C=0.1, class_weight={0: 1, 1: 1.5}, l1_ratio=0.5, max_iter=1000, penalty=elasticnet, solver=saga; total time=   0.0s\n",
      "[CV] END C=0.1, class_weight={0: 1, 1: 1.5}, l1_ratio=0.1, max_iter=5000, penalty=elasticnet, solver=saga; total time=   0.0s\n",
      "[CV] END C=0.1, class_weight={0: 1, 1: 1.5}, l1_ratio=0.9, max_iter=5000, penalty=elasticnet, solver=saga; total time=   0.0s\n",
      "[CV] END C=0.1, class_weight={0: 1, 1: 1.5}, l1_ratio=0.3, max_iter=1000, penalty=elasticnet, solver=saga; total time=   0.0s\n",
      "[CV] END C=0.1, class_weight={0: 1, 1: 1.5}, l1_ratio=0.7, max_iter=5000, penalty=elasticnet, solver=saga; total time=   0.0s\n",
      "[CV] END C=0.1, class_weight={0: 1, 1: 2}, l1_ratio=0.1, max_iter=5000, penalty=elasticnet, solver=saga; total time=   0.0s\n",
      "[CV] END C=0.1, class_weight={0: 1, 1: 1.5}, l1_ratio=0.7, max_iter=1000, penalty=elasticnet, solver=saga; total time=   0.0s\n",
      "[CV] END C=0.1, class_weight={0: 1, 1: 1.5}, l1_ratio=0.5, max_iter=1000, penalty=elasticnet, solver=saga; total time=   0.0s\n",
      "[CV] END C=0.1, class_weight={0: 1, 1: 1.5}, l1_ratio=0.9, max_iter=5000, penalty=elasticnet, solver=saga; total time=   0.0s\n",
      "[CV] END C=0.1, class_weight={0: 1, 1: 1.5}, l1_ratio=0.1, max_iter=5000, penalty=elasticnet, solver=saga; total time=   0.0s\n",
      "[CV] END C=0.1, class_weight={0: 1, 1: 2}, l1_ratio=0.1, max_iter=1000, penalty=elasticnet, solver=saga; total time=   0.0s\n",
      "[CV] END C=0.1, class_weight={0: 1, 1: 1.5}, l1_ratio=0.5, max_iter=1000, penalty=elasticnet, solver=saga; total time=   0.0s\n",
      "[CV] END C=0.1, class_weight={0: 1, 1: 1.5}, l1_ratio=0.7, max_iter=1000, penalty=elasticnet, solver=saga; total time=   0.0s\n",
      "[CV] END C=0.1, class_weight={0: 1, 1: 1.5}, l1_ratio=0.7, max_iter=5000, penalty=elasticnet, solver=saga; total time=   0.0s\n",
      "[CV] END C=0.1, class_weight={0: 1, 1: 1.5}, l1_ratio=0.9, max_iter=5000, penalty=elasticnet, solver=saga; total time=   0.0s\n",
      "[CV] END C=0.1, class_weight={0: 1, 1: 1.5}, l1_ratio=0.3, max_iter=1000, penalty=elasticnet, solver=saga; total time=   0.0s\n",
      "[CV] END C=0.1, class_weight={0: 1, 1: 1.5}, l1_ratio=0.1, max_iter=5000, penalty=elasticnet, solver=saga; total time=   0.0s\n",
      "[CV] END C=0.1, class_weight={0: 1, 1: 1.5}, l1_ratio=0.7, max_iter=1000, penalty=elasticnet, solver=saga; total time=   0.0s\n",
      "[CV] END C=0.1, class_weight={0: 1, 1: 2}, l1_ratio=0.1, max_iter=1000, penalty=elasticnet, solver=saga; total time=   0.0s\n",
      "[CV] END C=0.1, class_weight={0: 1, 1: 1.5}, l1_ratio=0.9, max_iter=1000, penalty=elasticnet, solver=saga; total time=   0.0s\n",
      "[CV] END C=0.1, class_weight={0: 1, 1: 2}, l1_ratio=0.1, max_iter=5000, penalty=elasticnet, solver=saga; total time=   0.0s\n",
      "[CV] END C=0.1, class_weight={0: 1, 1: 1.5}, l1_ratio=0.3, max_iter=5000, penalty=elasticnet, solver=saga; total time=   0.0s\n",
      "[CV] END C=0.1, class_weight={0: 1, 1: 1.5}, l1_ratio=0.9, max_iter=1000, penalty=elasticnet, solver=saga; total time=   0.0s\n",
      "[CV] END C=0.1, class_weight={0: 1, 1: 1.5}, l1_ratio=0.5, max_iter=1000, penalty=elasticnet, solver=saga; total time=   0.0s\n",
      "[CV] END C=0.1, class_weight={0: 1, 1: 1.5}, l1_ratio=0.9, max_iter=5000, penalty=elasticnet, solver=saga; total time=   0.0s\n",
      "[CV] END C=0.1, class_weight={0: 1, 1: 1.5}, l1_ratio=0.7, max_iter=1000, penalty=elasticnet, solver=saga; total time=   0.0s\n",
      "[CV] END C=0.1, class_weight={0: 1, 1: 2}, l1_ratio=0.1, max_iter=1000, penalty=elasticnet, solver=saga; total time=   0.0s\n",
      "[CV] END C=0.1, class_weight={0: 1, 1: 2}, l1_ratio=0.3, max_iter=1000, penalty=elasticnet, solver=saga; total time=   0.0s\n",
      "[CV] END C=0.1, class_weight={0: 1, 1: 1.5}, l1_ratio=0.5, max_iter=5000, penalty=elasticnet, solver=saga; total time=   0.0s\n",
      "[CV] END C=0.1, class_weight={0: 1, 1: 1.5}, l1_ratio=0.9, max_iter=5000, penalty=elasticnet, solver=saga; total time=   0.0s\n",
      "[CV] END C=0.1, class_weight={0: 1, 1: 1.5}, l1_ratio=0.1, max_iter=5000, penalty=elasticnet, solver=saga; total time=   0.0s\n",
      "[CV] END C=0.1, class_weight={0: 1, 1: 1.5}, l1_ratio=0.3, max_iter=5000, penalty=elasticnet, solver=saga; total time=   0.0s\n",
      "[CV] END C=0.1, class_weight={0: 1, 1: 2}, l1_ratio=0.3, max_iter=5000, penalty=elasticnet, solver=saga; total time=   0.0s\n",
      "[CV] END C=0.1, class_weight={0: 1, 1: 2}, l1_ratio=0.5, max_iter=1000, penalty=elasticnet, solver=saga; total time=   0.0s\n",
      "[CV] END C=0.1, class_weight={0: 1, 1: 2}, l1_ratio=0.9, max_iter=1000, penalty=elasticnet, solver=saga; total time=   0.0s\n",
      "[CV] END C=0.1, class_weight={0: 1, 1: 2}, l1_ratio=0.7, max_iter=1000, penalty=elasticnet, solver=saga; total time=   0.0s\n",
      "[CV] END C=0.1, class_weight={0: 1, 1: 2}, l1_ratio=0.3, max_iter=1000, penalty=elasticnet, solver=saga; total time=   0.0s\n",
      "[CV] END C=0.1, class_weight={0: 1, 1: 2}, l1_ratio=0.1, max_iter=5000, penalty=elasticnet, solver=saga; total time=   0.0s\n",
      "[CV] END C=0.1, class_weight={0: 1, 1: 2}, l1_ratio=0.9, max_iter=1000, penalty=elasticnet, solver=saga; total time=   0.0s\n",
      "[CV] END C=0.1, class_weight={0: 1, 1: 1.5}, l1_ratio=0.3, max_iter=5000, penalty=elasticnet, solver=saga; total time=   0.0s\n",
      "[CV] END C=0.1, class_weight={0: 1, 1: 2}, l1_ratio=0.7, max_iter=1000, penalty=elasticnet, solver=saga; total time=   0.0s\n",
      "[CV] END C=0.1, class_weight={0: 1, 1: 2}, l1_ratio=0.5, max_iter=5000, penalty=elasticnet, solver=saga; total time=   0.0s\n",
      "[CV] END C=0.1, class_weight={0: 1, 1: 1.5}, l1_ratio=0.1, max_iter=5000, penalty=elasticnet, solver=saga; total time=   0.0s\n",
      "[CV] END C=0.1, class_weight={0: 1, 1: 2}, l1_ratio=0.3, max_iter=1000, penalty=elasticnet, solver=saga; total time=   0.0s\n",
      "[CV] END C=0.1, class_weight={0: 1, 1: 2}, l1_ratio=0.9, max_iter=5000, penalty=elasticnet, solver=saga; total time=   0.0s\n",
      "[CV] END C=0.1, class_weight={0: 1, 1: 2}, l1_ratio=0.5, max_iter=5000, penalty=elasticnet, solver=saga; total time=   0.0s\n",
      "[CV] END C=0.1, class_weight={0: 1, 1: 2}, l1_ratio=0.3, max_iter=5000, penalty=elasticnet, solver=saga; total time=   0.0s\n",
      "[CV] END C=0.1, class_weight={0: 1, 1: 2}, l1_ratio=0.7, max_iter=1000, penalty=elasticnet, solver=saga; total time=   0.0s\n",
      "[CV] END C=0.1, class_weight={0: 1, 1: 2}, l1_ratio=0.9, max_iter=1000, penalty=elasticnet, solver=saga; total time=   0.0s\n",
      "[CV] END C=0.1, class_weight={0: 1, 1: 2}, l1_ratio=0.1, max_iter=5000, penalty=elasticnet, solver=saga; total time=   0.0s\n",
      "[CV] END C=0.1, class_weight={0: 1, 1: 2}, l1_ratio=0.9, max_iter=5000, penalty=elasticnet, solver=saga; total time=   0.0s\n",
      "[CV] END C=0.1, class_weight={0: 1, 1: 2}, l1_ratio=0.5, max_iter=5000, penalty=elasticnet, solver=saga; total time=   0.0s\n",
      "[CV] END C=0.1, class_weight={0: 1, 1: 2}, l1_ratio=0.7, max_iter=5000, penalty=elasticnet, solver=saga; total time=   0.0s\n",
      "[CV] END C=0.1, class_weight={0: 1, 1: 2.5}, l1_ratio=0.1, max_iter=5000, penalty=elasticnet, solver=saga; total time=   0.0s\n",
      "[CV] END C=0.1, class_weight={0: 1, 1: 2}, l1_ratio=0.3, max_iter=1000, penalty=elasticnet, solver=saga; total time=   0.0s\n",
      "[CV] END C=0.1, class_weight={0: 1, 1: 2}, l1_ratio=0.3, max_iter=5000, penalty=elasticnet, solver=saga; total time=   0.0s\n",
      "[CV] END C=0.1, class_weight={0: 1, 1: 2}, l1_ratio=0.9, max_iter=1000, penalty=elasticnet, solver=saga; total time=   0.0s\n",
      "[CV] END C=0.1, class_weight={0: 1, 1: 2}, l1_ratio=0.1, max_iter=5000, penalty=elasticnet, solver=saga; total time=   0.0s\n",
      "[CV] END C=0.1, class_weight={0: 1, 1: 2}, l1_ratio=0.7, max_iter=5000, penalty=elasticnet, solver=saga; total time=   0.0s\n",
      "[CV] END C=0.1, class_weight={0: 1, 1: 2}, l1_ratio=0.5, max_iter=5000, penalty=elasticnet, solver=saga; total time=   0.0s\n",
      "[CV] END C=0.1, class_weight={0: 1, 1: 2}, l1_ratio=0.9, max_iter=1000, penalty=elasticnet, solver=saga; total time=   0.0s\n",
      "[CV] END C=0.1, class_weight={0: 1, 1: 2.5}, l1_ratio=0.1, max_iter=1000, penalty=elasticnet, solver=saga; total time=   0.0s\n",
      "[CV] END C=0.1, class_weight={0: 1, 1: 2}, l1_ratio=0.7, max_iter=5000, penalty=elasticnet, solver=saga; total time=   0.0s\n",
      "[CV] END C=0.1, class_weight={0: 1, 1: 2.5}, l1_ratio=0.1, max_iter=5000, penalty=elasticnet, solver=saga; total time=   0.0s\n",
      "[CV] END C=0.1, class_weight={0: 1, 1: 2}, l1_ratio=0.3, max_iter=1000, penalty=elasticnet, solver=saga; total time=   0.0s\n",
      "[CV] END C=0.1, class_weight={0: 1, 1: 2}, l1_ratio=0.3, max_iter=5000, penalty=elasticnet, solver=saga; total time=   0.0s\n",
      "[CV] END C=0.1, class_weight={0: 1, 1: 2.5}, l1_ratio=0.1, max_iter=1000, penalty=elasticnet, solver=saga; total time=   0.0s\n",
      "[CV] END C=0.1, class_weight={0: 1, 1: 2}, l1_ratio=0.9, max_iter=5000, penalty=elasticnet, solver=saga; total time=   0.0s\n",
      "[CV] END C=0.1, class_weight={0: 1, 1: 2}, l1_ratio=0.7, max_iter=5000, penalty=elasticnet, solver=saga; total time=   0.0s\n",
      "[CV] END C=0.1, class_weight={0: 1, 1: 2}, l1_ratio=0.5, max_iter=5000, penalty=elasticnet, solver=saga; total time=   0.0s\n",
      "[CV] END C=0.1, class_weight={0: 1, 1: 2}, l1_ratio=0.3, max_iter=5000, penalty=elasticnet, solver=saga; total time=   0.0s\n",
      "[CV] END C=0.1, class_weight={0: 1, 1: 2}, l1_ratio=0.5, max_iter=1000, penalty=elasticnet, solver=saga; total time=   0.0s\n",
      "[CV] END C=0.1, class_weight={0: 1, 1: 2.5}, l1_ratio=0.1, max_iter=5000, penalty=elasticnet, solver=saga; total time=   0.0s\n",
      "[CV] END C=0.1, class_weight={0: 1, 1: 2}, l1_ratio=0.9, max_iter=5000, penalty=elasticnet, solver=saga; total time=   0.0s\n",
      "[CV] END C=0.1, class_weight={0: 1, 1: 2.5}, l1_ratio=0.3, max_iter=1000, penalty=elasticnet, solver=saga; total time=   0.0s\n",
      "[CV] END C=0.1, class_weight={0: 1, 1: 2}, l1_ratio=0.5, max_iter=1000, penalty=elasticnet, solver=saga; total time=   0.0s\n",
      "[CV] END C=0.1, class_weight={0: 1, 1: 2}, l1_ratio=0.7, max_iter=5000, penalty=elasticnet, solver=saga; total time=   0.0s\n",
      "[CV] END C=0.1, class_weight={0: 1, 1: 2.5}, l1_ratio=0.7, max_iter=1000, penalty=elasticnet, solver=saga; total time=   0.0s\n",
      "[CV] END C=0.1, class_weight={0: 1, 1: 2}, l1_ratio=0.9, max_iter=5000, penalty=elasticnet, solver=saga; total time=   0.0s\n",
      "[CV] END C=0.1, class_weight={0: 1, 1: 2.5}, l1_ratio=0.1, max_iter=1000, penalty=elasticnet, solver=saga; total time=   0.0s\n",
      "[CV] END C=0.1, class_weight={0: 1, 1: 2}, l1_ratio=0.7, max_iter=1000, penalty=elasticnet, solver=saga; total time=   0.0s\n",
      "[CV] END C=0.1, class_weight={0: 1, 1: 2}, l1_ratio=0.5, max_iter=1000, penalty=elasticnet, solver=saga; total time=   0.0s\n",
      "[CV] END C=0.1, class_weight={0: 1, 1: 2.5}, l1_ratio=0.1, max_iter=5000, penalty=elasticnet, solver=saga; total time=   0.0s\n",
      "[CV] END C=0.1, class_weight={0: 1, 1: 2.5}, l1_ratio=0.3, max_iter=5000, penalty=elasticnet, solver=saga; total time=   0.0s\n",
      "[CV] END C=0.1, class_weight={0: 1, 1: 2.5}, l1_ratio=0.7, max_iter=1000, penalty=elasticnet, solver=saga; total time=   0.0s\n",
      "[CV] END C=0.1, class_weight={0: 1, 1: 2.5}, l1_ratio=0.9, max_iter=5000, penalty=elasticnet, solver=saga; total time=   0.0s\n",
      "[CV] END C=0.1, class_weight={0: 1, 1: 2.5}, l1_ratio=0.7, max_iter=1000, penalty=elasticnet, solver=saga; total time=   0.0s[CV] END C=0.1, class_weight={0: 1, 1: 2}, l1_ratio=0.7, max_iter=1000, penalty=elasticnet, solver=saga; total time=   0.0s\n",
      "\n",
      "[CV] END C=0.1, class_weight={0: 1, 1: 2.5}, l1_ratio=0.3, max_iter=1000, penalty=elasticnet, solver=saga; total time=   0.0s\n",
      "[CV] END C=0.1, class_weight={0: 1, 1: 2}, l1_ratio=0.5, max_iter=1000, penalty=elasticnet, solver=saga; total time=   0.0s\n",
      "[CV] END C=0.1, class_weight={0: 1, 1: 2.5}, l1_ratio=0.1, max_iter=1000, penalty=elasticnet, solver=saga; total time=   0.0s\n",
      "[CV] END C=0.1, class_weight={0: 1, 1: 2.5}, l1_ratio=0.3, max_iter=5000, penalty=elasticnet, solver=saga; total time=   0.0s\n",
      "[CV] END C=0.1, class_weight={0: 1, 1: 2.5}, l1_ratio=0.9, max_iter=5000, penalty=elasticnet, solver=saga; total time=   0.0s\n",
      "[CV] END C=0.1, class_weight={0: 1, 1: 2.5}, l1_ratio=0.7, max_iter=1000, penalty=elasticnet, solver=saga; total time=   0.0s\n",
      "[CV] END C=0.1, class_weight={0: 1, 1: 2.5}, l1_ratio=0.1, max_iter=1000, penalty=elasticnet, solver=saga; total time=   0.0s\n",
      "[CV] END C=0.1, class_weight={0: 1, 1: 2.5}, l1_ratio=0.3, max_iter=5000, penalty=elasticnet, solver=saga; total time=   0.0s\n",
      "[CV] END C=0.1, class_weight={0: 1, 1: 2.5}, l1_ratio=0.3, max_iter=1000, penalty=elasticnet, solver=saga; total time=   0.0s\n",
      "[CV] END C=0.1, class_weight={0: 1, 1: 2.5}, l1_ratio=0.9, max_iter=5000, penalty=elasticnet, solver=saga; total time=   0.0s\n",
      "[CV] END C=0.1, class_weight={0: 1, 1: 2.5}, l1_ratio=0.7, max_iter=1000, penalty=elasticnet, solver=saga; total time=   0.0s\n",
      "[CV] END C=0.1, class_weight={0: 1, 1: 2.5}, l1_ratio=0.9, max_iter=5000, penalty=elasticnet, solver=saga; total time=   0.0s\n",
      "[CV] END C=0.1, class_weight={0: 1, 1: 2.5}, l1_ratio=0.3, max_iter=1000, penalty=elasticnet, solver=saga; total time=   0.0s\n",
      "[CV] END C=0.1, class_weight={0: 1, 1: 2.5}, l1_ratio=0.1, max_iter=5000, penalty=elasticnet, solver=saga; total time=   0.0s\n",
      "[CV] END C=0.1, class_weight={0: 1, 1: 2.5}, l1_ratio=0.3, max_iter=5000, penalty=elasticnet, solver=saga; total time=   0.0s\n",
      "[CV] END C=0.1, class_weight={0: 1, 1: 2.5}, l1_ratio=0.7, max_iter=5000, penalty=elasticnet, solver=saga; total time=   0.0s\n",
      "[CV] END C=0.1, class_weight={0: 1, 1: 2.5}, l1_ratio=0.7, max_iter=5000, penalty=elasticnet, solver=saga; total time=   0.0s\n",
      "[CV] END C=0.1, class_weight={0: 1, 1: 2.5}, l1_ratio=0.3, max_iter=1000, penalty=elasticnet, solver=saga; total time=   0.0s\n",
      "[CV] END C=0.1, class_weight={0: 1, 1: 2.5}, l1_ratio=0.7, max_iter=5000, penalty=elasticnet, solver=saga; total time=   0.0s\n",
      "[CV] END C=0.1, class_weight={0: 1, 1: 2.5}, l1_ratio=0.3, max_iter=5000, penalty=elasticnet, solver=saga; total time=   0.0s\n",
      "[CV] END C=0.1, class_weight={0: 1, 1: 2.5}, l1_ratio=0.7, max_iter=5000, penalty=elasticnet, solver=saga; total time=   0.0s\n",
      "[CV] END C=0.1, class_weight={0: 1, 1: 2.5}, l1_ratio=0.5, max_iter=1000, penalty=elasticnet, solver=saga; total time=   0.0s\n",
      "[CV] END C=1, class_weight={0: 1, 1: 1.5}, l1_ratio=0.3, max_iter=1000, penalty=elasticnet, solver=saga; total time=   0.1s\n",
      "[CV] END C=0.1, class_weight={0: 1, 1: 2.5}, l1_ratio=0.7, max_iter=5000, penalty=elasticnet, solver=saga; total time=   0.0s\n",
      "[CV] END C=0.1, class_weight={0: 1, 1: 2.5}, l1_ratio=0.9, max_iter=1000, penalty=elasticnet, solver=saga; total time=   0.0s\n",
      "[CV] END C=0.1, class_weight={0: 1, 1: 2.5}, l1_ratio=0.5, max_iter=1000, penalty=elasticnet, solver=saga; total time=   0.0s\n",
      "[CV] END C=1, class_weight={0: 1, 1: 1.5}, l1_ratio=0.9, max_iter=1000, penalty=elasticnet, solver=saga; total time=   0.1s\n",
      "[CV] END C=0.1, class_weight={0: 1, 1: 2.5}, l1_ratio=0.5, max_iter=1000, penalty=elasticnet, solver=saga; total time=   0.0s\n",
      "[CV] END C=0.1, class_weight={0: 1, 1: 2.5}, l1_ratio=0.9, max_iter=1000, penalty=elasticnet, solver=saga; total time=   0.0s\n",
      "[CV] END C=1, class_weight={0: 1, 1: 1.5}, l1_ratio=0.1, max_iter=1000, penalty=elasticnet, solver=saga; total time=   0.1s\n",
      "[CV] END C=1, class_weight={0: 1, 1: 2}, l1_ratio=0.5, max_iter=5000, penalty=elasticnet, solver=saga; total time=   0.1s\n",
      "[CV] END C=0.1, class_weight={0: 1, 1: 2.5}, l1_ratio=0.5, max_iter=1000, penalty=elasticnet, solver=saga; total time=   0.0s\n",
      "[CV] END C=0.1, class_weight={0: 1, 1: 2.5}, l1_ratio=0.9, max_iter=1000, penalty=elasticnet, solver=saga; total time=   0.0s\n",
      "[CV] END C=1, class_weight={0: 1, 1: 1.5}, l1_ratio=0.5, max_iter=5000, penalty=elasticnet, solver=saga; total time=   0.1s\n",
      "[CV] END C=1, class_weight={0: 1, 1: 2}, l1_ratio=0.3, max_iter=1000, penalty=elasticnet, solver=saga; total time=   0.1s\n",
      "[CV] END C=0.1, class_weight={0: 1, 1: 2.5}, l1_ratio=0.5, max_iter=1000, penalty=elasticnet, solver=saga; total time=   0.0s\n",
      "[CV] END C=0.1, class_weight={0: 1, 1: 2.5}, l1_ratio=0.9, max_iter=1000, penalty=elasticnet, solver=saga; total time=   0.0s\n",
      "[CV] END C=0.1, class_weight={0: 1, 1: 2.5}, l1_ratio=0.5, max_iter=5000, penalty=elasticnet, solver=saga; total time=   0.0s\n",
      "[CV] END C=0.1, class_weight={0: 1, 1: 2.5}, l1_ratio=0.9, max_iter=1000, penalty=elasticnet, solver=saga; total time=   0.0s\n",
      "[CV] END C=0.1, class_weight={0: 1, 1: 2.5}, l1_ratio=0.9, max_iter=5000, penalty=elasticnet, solver=saga; total time=   0.0s\n",
      "[CV] END C=0.1, class_weight={0: 1, 1: 2.5}, l1_ratio=0.5, max_iter=5000, penalty=elasticnet, solver=saga; total time=   0.0s\n",
      "[CV] END C=0.1, class_weight={0: 1, 1: 2.5}, l1_ratio=0.5, max_iter=5000, penalty=elasticnet, solver=saga; total time=   0.0s\n",
      "[CV] END C=1, class_weight={0: 1, 1: 1.5}, l1_ratio=0.3, max_iter=1000, penalty=elasticnet, solver=saga; total time=   0.1s\n",
      "[CV] END C=1, class_weight={0: 1, 1: 2}, l1_ratio=0.3, max_iter=1000, penalty=elasticnet, solver=saga; total time=   0.0s\n",
      "[CV] END C=0.1, class_weight={0: 1, 1: 2.5}, l1_ratio=0.5, max_iter=5000, penalty=elasticnet, solver=saga; total time=   0.0s\n",
      "[CV] END C=1, class_weight={0: 1, 1: 1.5}, l1_ratio=0.1, max_iter=1000, penalty=elasticnet, solver=saga; total time=   0.1s\n",
      "[CV] END C=0.1, class_weight={0: 1, 1: 2.5}, l1_ratio=0.5, max_iter=5000, penalty=elasticnet, solver=saga; total time=   0.0s\n",
      "[CV] END C=1, class_weight={0: 1, 1: 1.5}, l1_ratio=0.5, max_iter=5000, penalty=elasticnet, solver=saga; total time=   0.1s\n",
      "[CV] END C=1, class_weight={0: 1, 1: 1.5}, l1_ratio=0.9, max_iter=5000, penalty=elasticnet, solver=saga; total time=   0.1s\n",
      "[CV] END C=1, class_weight={0: 1, 1: 2}, l1_ratio=0.5, max_iter=5000, penalty=elasticnet, solver=saga; total time=   0.1s\n",
      "[CV] END C=1, class_weight={0: 1, 1: 2}, l1_ratio=0.9, max_iter=1000, penalty=elasticnet, solver=saga; total time=   0.1s\n",
      "[CV] END C=1, class_weight={0: 1, 1: 2}, l1_ratio=0.3, max_iter=1000, penalty=elasticnet, solver=saga; total time=   0.1s\n",
      "[CV] END C=1, class_weight={0: 1, 1: 1.5}, l1_ratio=0.3, max_iter=1000, penalty=elasticnet, solver=saga; total time=   0.1s\n",
      "[CV] END C=1, class_weight={0: 1, 1: 1.5}, l1_ratio=0.9, max_iter=5000, penalty=elasticnet, solver=saga; total time=   0.1s\n",
      "[CV] END C=1, class_weight={0: 1, 1: 1.5}, l1_ratio=0.1, max_iter=1000, penalty=elasticnet, solver=saga; total time=   0.1s\n",
      "[CV] END C=1, class_weight={0: 1, 1: 2.5}, l1_ratio=0.1, max_iter=5000, penalty=elasticnet, solver=saga; total time=   0.1s\n",
      "[CV] END C=1, class_weight={0: 1, 1: 1.5}, l1_ratio=0.7, max_iter=1000, penalty=elasticnet, solver=saga; total time=   0.1s\n",
      "[CV] END C=1, class_weight={0: 1, 1: 2}, l1_ratio=0.5, max_iter=5000, penalty=elasticnet, solver=saga; total time=   0.1s\n",
      "[CV] END C=1, class_weight={0: 1, 1: 1.5}, l1_ratio=0.3, max_iter=5000, penalty=elasticnet, solver=saga; total time=   0.1s\n",
      "[CV] END C=1, class_weight={0: 1, 1: 1.5}, l1_ratio=0.1, max_iter=1000, penalty=elasticnet, solver=saga; total time=   0.1s\n",
      "[CV] END C=1, class_weight={0: 1, 1: 2}, l1_ratio=0.3, max_iter=1000, penalty=elasticnet, solver=saga; total time=   0.1s\n",
      "[CV] END C=1, class_weight={0: 1, 1: 2.5}, l1_ratio=0.1, max_iter=5000, penalty=elasticnet, solver=saga; total time=   0.1s\n",
      "[CV] END C=1, class_weight={0: 1, 1: 1.5}, l1_ratio=0.7, max_iter=1000, penalty=elasticnet, solver=saga; total time=   0.1s\n",
      "[CV] END C=1, class_weight={0: 1, 1: 1.5}, l1_ratio=0.9, max_iter=5000, penalty=elasticnet, solver=saga; total time=   0.1s\n",
      "[CV] END C=1, class_weight={0: 1, 1: 2}, l1_ratio=0.9, max_iter=1000, penalty=elasticnet, solver=saga; total time=   0.1s\n",
      "[CV] END C=1, class_weight={0: 1, 1: 2}, l1_ratio=0.5, max_iter=5000, penalty=elasticnet, solver=saga; total time=   0.1s\n",
      "[CV] END C=1, class_weight={0: 1, 1: 1.5}, l1_ratio=0.3, max_iter=5000, penalty=elasticnet, solver=saga; total time=   0.0s\n",
      "[CV] END C=1, class_weight={0: 1, 1: 1.5}, l1_ratio=0.1, max_iter=1000, penalty=elasticnet, solver=saga; total time=   0.1s\n",
      "[CV] END C=1, class_weight={0: 1, 1: 2}, l1_ratio=0.3, max_iter=1000, penalty=elasticnet, solver=saga; total time=   0.1s\n",
      "[CV] END C=1, class_weight={0: 1, 1: 2.5}, l1_ratio=0.3, max_iter=1000, penalty=elasticnet, solver=saga; total time=   0.1s\n",
      "[CV] END C=1, class_weight={0: 1, 1: 1.5}, l1_ratio=0.7, max_iter=1000, penalty=elasticnet, solver=saga; total time=   0.1s\n",
      "[CV] END C=1, class_weight={0: 1, 1: 2}, l1_ratio=0.7, max_iter=1000, penalty=elasticnet, solver=saga; total time=   0.1s\n",
      "[CV] END C=1, class_weight={0: 1, 1: 2}, l1_ratio=0.9, max_iter=1000, penalty=elasticnet, solver=saga; total time=   0.1s\n",
      "[CV] END C=1, class_weight={0: 1, 1: 2.5}, l1_ratio=0.3, max_iter=1000, penalty=elasticnet, solver=saga; total time=   0.0s\n",
      "[CV] END C=1, class_weight={0: 1, 1: 1.5}, l1_ratio=0.1, max_iter=5000, penalty=elasticnet, solver=saga; total time=   0.1s\n",
      "[CV] END C=1, class_weight={0: 1, 1: 1.5}, l1_ratio=0.3, max_iter=5000, penalty=elasticnet, solver=saga; total time=   0.1s\n",
      "[CV] END C=1, class_weight={0: 1, 1: 1.5}, l1_ratio=0.9, max_iter=5000, penalty=elasticnet, solver=saga; total time=   0.1s\n",
      "[CV] END C=1, class_weight={0: 1, 1: 2}, l1_ratio=0.3, max_iter=5000, penalty=elasticnet, solver=saga; total time=   0.1s\n",
      "[CV] END C=1, class_weight={0: 1, 1: 2}, l1_ratio=0.7, max_iter=1000, penalty=elasticnet, solver=saga; total time=   0.0s\n",
      "[CV] END C=1, class_weight={0: 1, 1: 1.5}, l1_ratio=0.1, max_iter=5000, penalty=elasticnet, solver=saga; total time=   0.0s\n",
      "[CV] END C=1, class_weight={0: 1, 1: 2.5}, l1_ratio=0.3, max_iter=1000, penalty=elasticnet, solver=saga; total time=   0.1s\n",
      "[CV] END C=1, class_weight={0: 1, 1: 1.5}, l1_ratio=0.7, max_iter=1000, penalty=elasticnet, solver=saga; total time=   0.1s\n",
      "[CV] END C=1, class_weight={0: 1, 1: 2}, l1_ratio=0.3, max_iter=5000, penalty=elasticnet, solver=saga; total time=   0.1s\n",
      "[CV] END C=1, class_weight={0: 1, 1: 1.5}, l1_ratio=0.3, max_iter=5000, penalty=elasticnet, solver=saga; total time=   0.1s\n",
      "[CV] END C=1, class_weight={0: 1, 1: 2}, l1_ratio=0.9, max_iter=5000, penalty=elasticnet, solver=saga; total time=   0.1s\n",
      "[CV] END C=1, class_weight={0: 1, 1: 1.5}, l1_ratio=0.9, max_iter=5000, penalty=elasticnet, solver=saga; total time=   0.1s\n",
      "[CV] END C=1, class_weight={0: 1, 1: 1.5}, l1_ratio=0.1, max_iter=5000, penalty=elasticnet, solver=saga; total time=   0.1s\n",
      "[CV] END C=1, class_weight={0: 1, 1: 2}, l1_ratio=0.7, max_iter=1000, penalty=elasticnet, solver=saga; total time=   0.1s\n",
      "[CV] END C=1, class_weight={0: 1, 1: 2}, l1_ratio=0.9, max_iter=5000, penalty=elasticnet, solver=saga; total time=   0.1s\n",
      "[CV] END C=1, class_weight={0: 1, 1: 1.5}, l1_ratio=0.7, max_iter=1000, penalty=elasticnet, solver=saga; total time=   0.1s\n",
      "[CV] END C=1, class_weight={0: 1, 1: 2}, l1_ratio=0.1, max_iter=1000, penalty=elasticnet, solver=saga; total time=   0.1s\n",
      "[CV] END C=1, class_weight={0: 1, 1: 1.5}, l1_ratio=0.3, max_iter=5000, penalty=elasticnet, solver=saga; total time=   0.1s\n",
      "[CV] END C=1, class_weight={0: 1, 1: 2.5}, l1_ratio=0.3, max_iter=1000, penalty=elasticnet, solver=saga; total time=   0.1s\n",
      "[CV] END C=1, class_weight={0: 1, 1: 2}, l1_ratio=0.3, max_iter=5000, penalty=elasticnet, solver=saga; total time=   0.1s\n",
      "[CV] END C=1, class_weight={0: 1, 1: 1.5}, l1_ratio=0.1, max_iter=5000, penalty=elasticnet, solver=saga; total time=   0.1s\n",
      "[CV] END C=1, class_weight={0: 1, 1: 2}, l1_ratio=0.1, max_iter=1000, penalty=elasticnet, solver=saga; total time=   0.0s\n",
      "[CV] END C=1, class_weight={0: 1, 1: 1.5}, l1_ratio=0.7, max_iter=5000, penalty=elasticnet, solver=saga; total time=   0.1s\n",
      "[CV] END C=1, class_weight={0: 1, 1: 2.5}, l1_ratio=0.3, max_iter=1000, penalty=elasticnet, solver=saga; total time=   0.1s\n",
      "[CV] END C=1, class_weight={0: 1, 1: 2}, l1_ratio=0.7, max_iter=1000, penalty=elasticnet, solver=saga; total time=   0.1s\n",
      "[CV] END C=1, class_weight={0: 1, 1: 1.5}, l1_ratio=0.5, max_iter=1000, penalty=elasticnet, solver=saga; total time=   0.1s\n",
      "[CV] END C=1, class_weight={0: 1, 1: 2}, l1_ratio=0.3, max_iter=5000, penalty=elasticnet, solver=saga; total time=   0.1s\n",
      "[CV] END C=1, class_weight={0: 1, 1: 2}, l1_ratio=0.9, max_iter=5000, penalty=elasticnet, solver=saga; total time=   0.1s\n",
      "[CV] END C=1, class_weight={0: 1, 1: 1.5}, l1_ratio=0.1, max_iter=5000, penalty=elasticnet, solver=saga; total time=   0.1s\n",
      "[CV] END C=1, class_weight={0: 1, 1: 2}, l1_ratio=0.1, max_iter=1000, penalty=elasticnet, solver=saga; total time=   0.1s\n",
      "[CV] END C=1, class_weight={0: 1, 1: 1.5}, l1_ratio=0.5, max_iter=1000, penalty=elasticnet, solver=saga; total time=   0.1s\n",
      "[CV] END C=1, class_weight={0: 1, 1: 1.5}, l1_ratio=0.7, max_iter=5000, penalty=elasticnet, solver=saga; total time=   0.1s\n",
      "[CV] END C=1, class_weight={0: 1, 1: 2.5}, l1_ratio=0.3, max_iter=5000, penalty=elasticnet, solver=saga; total time=   0.1s\n",
      "[CV] END C=1, class_weight={0: 1, 1: 2}, l1_ratio=0.7, max_iter=1000, penalty=elasticnet, solver=saga; total time=   0.1s\n",
      "[CV] END C=1, class_weight={0: 1, 1: 2}, l1_ratio=0.3, max_iter=5000, penalty=elasticnet, solver=saga; total time=   0.1s\n",
      "[CV] END C=1, class_weight={0: 1, 1: 1.5}, l1_ratio=0.3, max_iter=1000, penalty=elasticnet, solver=saga; total time=   0.1s\n",
      "[CV] END C=1, class_weight={0: 1, 1: 2}, l1_ratio=0.1, max_iter=1000, penalty=elasticnet, solver=saga; total time=   0.1s\n",
      "[CV] END C=1, class_weight={0: 1, 1: 2}, l1_ratio=0.9, max_iter=5000, penalty=elasticnet, solver=saga; total time=   0.1s\n",
      "[CV] END C=1, class_weight={0: 1, 1: 2.5}, l1_ratio=0.3, max_iter=5000, penalty=elasticnet, solver=saga; total time=   0.1s\n",
      "[CV] END C=1, class_weight={0: 1, 1: 1.5}, l1_ratio=0.3, max_iter=1000, penalty=elasticnet, solver=saga; total time=   0.0s\n",
      "[CV] END C=1, class_weight={0: 1, 1: 1.5}, l1_ratio=0.7, max_iter=5000, penalty=elasticnet, solver=saga; total time=   0.1s\n",
      "[CV] END C=1, class_weight={0: 1, 1: 1.5}, l1_ratio=0.5, max_iter=1000, penalty=elasticnet, solver=saga; total time=   0.1s\n",
      "[CV] END C=1, class_weight={0: 1, 1: 2}, l1_ratio=0.1, max_iter=1000, penalty=elasticnet, solver=saga; total time=   0.1s\n",
      "[CV] END C=1, class_weight={0: 1, 1: 2}, l1_ratio=0.5, max_iter=1000, penalty=elasticnet, solver=saga; total time=   0.1s\n",
      "[CV] END C=1, class_weight={0: 1, 1: 2}, l1_ratio=0.7, max_iter=5000, penalty=elasticnet, solver=saga; total time=   0.1s\n",
      "[CV] END C=1, class_weight={0: 1, 1: 2.5}, l1_ratio=0.3, max_iter=5000, penalty=elasticnet, solver=saga; total time=   0.1s\n",
      "[CV] END C=1, class_weight={0: 1, 1: 2.5}, l1_ratio=0.5, max_iter=1000, penalty=elasticnet, solver=saga; total time=   0.1s\n",
      "[CV] END C=1, class_weight={0: 1, 1: 2}, l1_ratio=0.5, max_iter=1000, penalty=elasticnet, solver=saga; total time=   0.1s\n",
      "[CV] END C=1, class_weight={0: 1, 1: 2}, l1_ratio=0.7, max_iter=5000, penalty=elasticnet, solver=saga; total time=   0.1s\n",
      "[CV] END C=1, class_weight={0: 1, 1: 2}, l1_ratio=0.9, max_iter=5000, penalty=elasticnet, solver=saga; total time=   0.2s\n",
      "[CV] END C=1, class_weight={0: 1, 1: 2}, l1_ratio=0.1, max_iter=5000, penalty=elasticnet, solver=saga; total time=   0.1s\n",
      "[CV] END C=1, class_weight={0: 1, 1: 1.5}, l1_ratio=0.5, max_iter=1000, penalty=elasticnet, solver=saga; total time=   0.2s\n",
      "[CV] END C=1, class_weight={0: 1, 1: 1.5}, l1_ratio=0.7, max_iter=5000, penalty=elasticnet, solver=saga; total time=   0.2s\n",
      "[CV] END C=1, class_weight={0: 1, 1: 2.5}, l1_ratio=0.3, max_iter=5000, penalty=elasticnet, solver=saga; total time=   0.1s\n",
      "[CV] END C=1, class_weight={0: 1, 1: 2.5}, l1_ratio=0.1, max_iter=1000, penalty=elasticnet, solver=saga; total time=   0.1s\n",
      "[CV] END C=1, class_weight={0: 1, 1: 2.5}, l1_ratio=0.5, max_iter=5000, penalty=elasticnet, solver=saga; total time=   0.1s\n",
      "[CV] END C=1, class_weight={0: 1, 1: 2}, l1_ratio=0.1, max_iter=5000, penalty=elasticnet, solver=saga; total time=   0.1s\n",
      "[CV] END C=1, class_weight={0: 1, 1: 2}, l1_ratio=0.7, max_iter=5000, penalty=elasticnet, solver=saga; total time=   0.1s\n",
      "[CV] END C=1, class_weight={0: 1, 1: 2}, l1_ratio=0.5, max_iter=1000, penalty=elasticnet, solver=saga; total time=   0.1s\n",
      "[CV] END C=1, class_weight={0: 1, 1: 1.5}, l1_ratio=0.7, max_iter=5000, penalty=elasticnet, solver=saga; total time=   0.1s\n",
      "[CV] END C=1, class_weight={0: 1, 1: 2.5}, l1_ratio=0.5, max_iter=5000, penalty=elasticnet, solver=saga; total time=   0.0s\n",
      "[CV] END C=1, class_weight={0: 1, 1: 1.5}, l1_ratio=0.5, max_iter=1000, penalty=elasticnet, solver=saga; total time=   0.1s\n",
      "[CV] END C=1, class_weight={0: 1, 1: 2.5}, l1_ratio=0.1, max_iter=1000, penalty=elasticnet, solver=saga; total time=   0.1s\n",
      "[CV] END C=1, class_weight={0: 1, 1: 2.5}, l1_ratio=0.3, max_iter=5000, penalty=elasticnet, solver=saga; total time=   0.1s\n",
      "[CV] END C=1, class_weight={0: 1, 1: 2}, l1_ratio=0.1, max_iter=5000, penalty=elasticnet, solver=saga; total time=   0.1s\n",
      "[CV] END C=1, class_weight={0: 1, 1: 1.5}, l1_ratio=0.9, max_iter=1000, penalty=elasticnet, solver=saga; total time=   0.1s\n",
      "[CV] END C=1, class_weight={0: 1, 1: 2}, l1_ratio=0.5, max_iter=1000, penalty=elasticnet, solver=saga; total time=   0.1s\n",
      "[CV] END C=1, class_weight={0: 1, 1: 2}, l1_ratio=0.7, max_iter=5000, penalty=elasticnet, solver=saga; total time=   0.1s\n",
      "[CV] END C=1, class_weight={0: 1, 1: 2.5}, l1_ratio=0.1, max_iter=1000, penalty=elasticnet, solver=saga; total time=   0.1s\n",
      "[CV] END C=1, class_weight={0: 1, 1: 2.5}, l1_ratio=0.5, max_iter=5000, penalty=elasticnet, solver=saga; total time=   0.1s\n",
      "[CV] END C=1, class_weight={0: 1, 1: 1.5}, l1_ratio=0.5, max_iter=5000, penalty=elasticnet, solver=saga; total time=   0.1s\n",
      "[CV] END C=1, class_weight={0: 1, 1: 2.5}, l1_ratio=0.5, max_iter=1000, penalty=elasticnet, solver=saga; total time=   0.1s\n",
      "[CV] END C=1, class_weight={0: 1, 1: 2}, l1_ratio=0.1, max_iter=5000, penalty=elasticnet, solver=saga; total time=   0.1s\n",
      "[CV] END C=1, class_weight={0: 1, 1: 1.5}, l1_ratio=0.9, max_iter=1000, penalty=elasticnet, solver=saga; total time=   0.1s\n",
      "[CV] END C=1, class_weight={0: 1, 1: 1.5}, l1_ratio=0.5, max_iter=5000, penalty=elasticnet, solver=saga; total time=   0.1s\n",
      "[CV] END C=1, class_weight={0: 1, 1: 2.5}, l1_ratio=0.1, max_iter=1000, penalty=elasticnet, solver=saga; total time=   0.1s\n",
      "[CV] END C=1, class_weight={0: 1, 1: 2}, l1_ratio=0.5, max_iter=1000, penalty=elasticnet, solver=saga; total time=   0.1s\n",
      "[CV] END C=1, class_weight={0: 1, 1: 2.5}, l1_ratio=0.5, max_iter=1000, penalty=elasticnet, solver=saga; total time=   0.1s\n",
      "[CV] END C=1, class_weight={0: 1, 1: 2}, l1_ratio=0.7, max_iter=5000, penalty=elasticnet, solver=saga; total time=   0.1s\n",
      "[CV] END C=1, class_weight={0: 1, 1: 2.5}, l1_ratio=0.5, max_iter=5000, penalty=elasticnet, solver=saga; total time=   0.1s\n",
      "[CV] END C=1, class_weight={0: 1, 1: 2}, l1_ratio=0.1, max_iter=5000, penalty=elasticnet, solver=saga; total time=   0.1s\n",
      "[CV] END C=1, class_weight={0: 1, 1: 1.5}, l1_ratio=0.9, max_iter=1000, penalty=elasticnet, solver=saga; total time=   0.1s\n",
      "[CV] END C=1, class_weight={0: 1, 1: 2}, l1_ratio=0.5, max_iter=5000, penalty=elasticnet, solver=saga; total time=   0.1s\n",
      "[CV] END C=1, class_weight={0: 1, 1: 2.5}, l1_ratio=0.5, max_iter=1000, penalty=elasticnet, solver=saga; total time=   0.1s\n",
      "[CV] END C=1, class_weight={0: 1, 1: 2.5}, l1_ratio=0.1, max_iter=1000, penalty=elasticnet, solver=saga; total time=   0.1s\n",
      "[CV] END C=1, class_weight={0: 1, 1: 1.5}, l1_ratio=0.5, max_iter=5000, penalty=elasticnet, solver=saga; total time=   0.1s\n",
      "[CV] END C=1, class_weight={0: 1, 1: 2.5}, l1_ratio=0.5, max_iter=5000, penalty=elasticnet, solver=saga; total time=   0.1s\n",
      "[CV] END C=1, class_weight={0: 1, 1: 2}, l1_ratio=0.9, max_iter=1000, penalty=elasticnet, solver=saga; total time=   0.1s\n",
      "[CV] END C=1, class_weight={0: 1, 1: 2.5}, l1_ratio=0.9, max_iter=1000, penalty=elasticnet, solver=saga; total time=   0.1s\n",
      "[CV] END C=1, class_weight={0: 1, 1: 2.5}, l1_ratio=0.1, max_iter=5000, penalty=elasticnet, solver=saga; total time=   0.1s\n",
      "[CV] END C=1, class_weight={0: 1, 1: 2.5}, l1_ratio=0.5, max_iter=1000, penalty=elasticnet, solver=saga; total time=   0.1s\n",
      "[CV] END C=1, class_weight={0: 1, 1: 1.5}, l1_ratio=0.9, max_iter=1000, penalty=elasticnet, solver=saga; total time=   0.1s\n",
      "[CV] END C=1, class_weight={0: 1, 1: 2}, l1_ratio=0.9, max_iter=1000, penalty=elasticnet, solver=saga; total time=   0.1s\n",
      "[CV] END C=1, class_weight={0: 1, 1: 2.5}, l1_ratio=0.9, max_iter=1000, penalty=elasticnet, solver=saga; total time=   0.1s\n",
      "[CV] END C=1, class_weight={0: 1, 1: 2.5}, l1_ratio=0.7, max_iter=1000, penalty=elasticnet, solver=saga; total time=   0.1s\n",
      "[CV] END C=1, class_weight={0: 1, 1: 2.5}, l1_ratio=0.1, max_iter=5000, penalty=elasticnet, solver=saga; total time=   0.1s\n",
      "[CV] END C=1, class_weight={0: 1, 1: 2.5}, l1_ratio=0.7, max_iter=1000, penalty=elasticnet, solver=saga; total time=   0.1s\n",
      "[CV] END C=10, class_weight={0: 1, 1: 1.5}, l1_ratio=0.5, max_iter=1000, penalty=elasticnet, solver=saga; total time=   0.2s\n",
      "[CV] END C=10, class_weight={0: 1, 1: 1.5}, l1_ratio=0.1, max_iter=5000, penalty=elasticnet, solver=saga; total time=   0.3s\n",
      "[CV] END C=1, class_weight={0: 1, 1: 2.5}, l1_ratio=0.1, max_iter=5000, penalty=elasticnet, solver=saga; total time=   0.1s\n",
      "[CV] END C=1, class_weight={0: 1, 1: 2.5}, l1_ratio=0.9, max_iter=1000, penalty=elasticnet, solver=saga; total time=   0.1s\n"
     ]
    },
    {
     "name": "stderr",
     "output_type": "stream",
     "text": [
      "/Users/abhinavramalingam/Documents/Uppsala/SML/.conda/lib/python3.11/site-packages/sklearn/linear_model/_sag.py:349: ConvergenceWarning: The max_iter was reached which means the coef_ did not converge\n",
      "  warnings.warn(\n",
      "/Users/abhinavramalingam/Documents/Uppsala/SML/.conda/lib/python3.11/site-packages/sklearn/linear_model/_sag.py:349: ConvergenceWarning: The max_iter was reached which means the coef_ did not converge\n",
      "  warnings.warn(\n",
      "/Users/abhinavramalingam/Documents/Uppsala/SML/.conda/lib/python3.11/site-packages/sklearn/linear_model/_sag.py:349: ConvergenceWarning: The max_iter was reached which means the coef_ did not converge\n",
      "  warnings.warn(\n"
     ]
    },
    {
     "name": "stdout",
     "output_type": "stream",
     "text": [
      "[CV] END C=1, class_weight={0: 1, 1: 2.5}, l1_ratio=0.7, max_iter=1000, penalty=elasticnet, solver=saga; total time=   0.1s\n",
      "[CV] END C=10, class_weight={0: 1, 1: 2}, l1_ratio=0.1, max_iter=1000, penalty=elasticnet, solver=saga; total time=   0.2s\n",
      "[CV] END C=10, class_weight={0: 1, 1: 2}, l1_ratio=0.5, max_iter=1000, penalty=elasticnet, solver=saga; total time=   0.2s\n",
      "[CV] END C=1, class_weight={0: 1, 1: 2.5}, l1_ratio=0.9, max_iter=1000, penalty=elasticnet, solver=saga; total time=   0.1s\n",
      "[CV] END C=1, class_weight={0: 1, 1: 2.5}, l1_ratio=0.7, max_iter=1000, penalty=elasticnet, solver=saga; total time=   0.1s\n",
      "[CV] END C=10, class_weight={0: 1, 1: 1.5}, l1_ratio=0.7, max_iter=5000, penalty=elasticnet, solver=saga; total time=   0.3s\n",
      "[CV] END C=10, class_weight={0: 1, 1: 1.5}, l1_ratio=0.5, max_iter=1000, penalty=elasticnet, solver=saga; total time=   0.2s\n",
      "[CV] END C=1, class_weight={0: 1, 1: 2.5}, l1_ratio=0.7, max_iter=1000, penalty=elasticnet, solver=saga; total time=   0.1s\n",
      "[CV] END C=10, class_weight={0: 1, 1: 1.5}, l1_ratio=0.1, max_iter=5000, penalty=elasticnet, solver=saga; total time=   0.2s\n",
      "[CV] END C=1, class_weight={0: 1, 1: 2.5}, l1_ratio=0.9, max_iter=1000, penalty=elasticnet, solver=saga; total time=   0.1s\n",
      "[CV] END C=10, class_weight={0: 1, 1: 2}, l1_ratio=0.5, max_iter=1000, penalty=elasticnet, solver=saga; total time=   0.2s\n",
      "[CV] END C=10, class_weight={0: 1, 1: 2}, l1_ratio=0.1, max_iter=5000, penalty=elasticnet, solver=saga; total time=   0.2s\n"
     ]
    },
    {
     "name": "stderr",
     "output_type": "stream",
     "text": [
      "/Users/abhinavramalingam/Documents/Uppsala/SML/.conda/lib/python3.11/site-packages/sklearn/linear_model/_sag.py:349: ConvergenceWarning: The max_iter was reached which means the coef_ did not converge\n",
      "  warnings.warn(\n",
      "/Users/abhinavramalingam/Documents/Uppsala/SML/.conda/lib/python3.11/site-packages/sklearn/linear_model/_sag.py:349: ConvergenceWarning: The max_iter was reached which means the coef_ did not converge\n",
      "  warnings.warn(\n",
      "/Users/abhinavramalingam/Documents/Uppsala/SML/.conda/lib/python3.11/site-packages/sklearn/linear_model/_sag.py:349: ConvergenceWarning: The max_iter was reached which means the coef_ did not converge\n",
      "  warnings.warn(\n"
     ]
    },
    {
     "name": "stdout",
     "output_type": "stream",
     "text": [
      "[CV] END C=1, class_weight={0: 1, 1: 2.5}, l1_ratio=0.7, max_iter=5000, penalty=elasticnet, solver=saga; total time=   0.1s\n",
      "[CV] END C=1, class_weight={0: 1, 1: 2.5}, l1_ratio=0.9, max_iter=5000, penalty=elasticnet, solver=saga; total time=   0.1s\n",
      "[CV] END C=1, class_weight={0: 1, 1: 2.5}, l1_ratio=0.7, max_iter=5000, penalty=elasticnet, solver=saga; total time=   0.0s\n",
      "[CV] END C=10, class_weight={0: 1, 1: 2}, l1_ratio=0.7, max_iter=5000, penalty=elasticnet, solver=saga; total time=   0.3s\n",
      "[CV] END C=10, class_weight={0: 1, 1: 1.5}, l1_ratio=0.5, max_iter=1000, penalty=elasticnet, solver=saga; total time=   0.2s\n",
      "[CV] END C=1, class_weight={0: 1, 1: 2.5}, l1_ratio=0.9, max_iter=5000, penalty=elasticnet, solver=saga; total time=   0.1s\n",
      "[CV] END C=10, class_weight={0: 1, 1: 1.5}, l1_ratio=0.7, max_iter=5000, penalty=elasticnet, solver=saga; total time=   0.3s\n",
      "[CV] END C=1, class_weight={0: 1, 1: 2.5}, l1_ratio=0.7, max_iter=5000, penalty=elasticnet, solver=saga; total time=   0.1s\n",
      "[CV] END C=10, class_weight={0: 1, 1: 2}, l1_ratio=0.5, max_iter=1000, penalty=elasticnet, solver=saga; total time=   0.2s\n",
      "[CV] END C=1, class_weight={0: 1, 1: 2.5}, l1_ratio=0.9, max_iter=5000, penalty=elasticnet, solver=saga; total time=   0.1s\n",
      "[CV] END C=10, class_weight={0: 1, 1: 2}, l1_ratio=0.1, max_iter=5000, penalty=elasticnet, solver=saga; total time=   0.3s"
     ]
    },
    {
     "name": "stderr",
     "output_type": "stream",
     "text": [
      "/Users/abhinavramalingam/Documents/Uppsala/SML/.conda/lib/python3.11/site-packages/sklearn/linear_model/_sag.py:349: ConvergenceWarning: The max_iter was reached which means the coef_ did not converge\n",
      "  warnings.warn(\n",
      "/Users/abhinavramalingam/Documents/Uppsala/SML/.conda/lib/python3.11/site-packages/sklearn/linear_model/_sag.py:349: ConvergenceWarning: The max_iter was reached which means the coef_ did not converge\n",
      "  warnings.warn(\n",
      "/Users/abhinavramalingam/Documents/Uppsala/SML/.conda/lib/python3.11/site-packages/sklearn/linear_model/_sag.py:349: ConvergenceWarning: The max_iter was reached which means the coef_ did not converge\n",
      "  warnings.warn(\n"
     ]
    },
    {
     "name": "stdout",
     "output_type": "stream",
     "text": [
      "\n",
      "[CV] END C=10, class_weight={0: 1, 1: 1.5}, l1_ratio=0.1, max_iter=5000, penalty=elasticnet, solver=saga; total time=   0.3s\n",
      "[CV] END C=1, class_weight={0: 1, 1: 2.5}, l1_ratio=0.7, max_iter=5000, penalty=elasticnet, solver=saga; total time=   0.1s\n",
      "[CV] END C=10, class_weight={0: 1, 1: 2}, l1_ratio=0.5, max_iter=1000, penalty=elasticnet, solver=saga; total time=   0.2s\n",
      "[CV] END C=10, class_weight={0: 1, 1: 1.5}, l1_ratio=0.9, max_iter=1000, penalty=elasticnet, solver=saga; total time=   0.2s\n",
      "[CV] END C=1, class_weight={0: 1, 1: 2.5}, l1_ratio=0.9, max_iter=5000, penalty=elasticnet, solver=saga; total time=   0.1s\n",
      "[CV] END C=1, class_weight={0: 1, 1: 2.5}, l1_ratio=0.7, max_iter=5000, penalty=elasticnet, solver=saga; total time=   0.1s\n",
      "[CV] END C=10, class_weight={0: 1, 1: 1.5}, l1_ratio=0.5, max_iter=5000, penalty=elasticnet, solver=saga; total time=   0.2s\n",
      "[CV] END C=10, class_weight={0: 1, 1: 2}, l1_ratio=0.7, max_iter=5000, penalty=elasticnet, solver=saga; total time=   0.3s\n",
      "[CV] END C=1, class_weight={0: 1, 1: 2.5}, l1_ratio=0.9, max_iter=5000, penalty=elasticnet, solver=saga; total time=   0.1s\n",
      "[CV] END C=10, class_weight={0: 1, 1: 1.5}, l1_ratio=0.1, max_iter=5000, penalty=elasticnet, solver=saga; total time=   0.2s\n",
      "[CV] END C=10, class_weight={0: 1, 1: 2}, l1_ratio=0.1, max_iter=5000, penalty=elasticnet, solver=saga; total time=   0.2s\n",
      "[CV] END C=10, class_weight={0: 1, 1: 2}, l1_ratio=0.5, max_iter=1000, penalty=elasticnet, solver=saga; total time=   0.2s\n",
      "[CV] END C=10, class_weight={0: 1, 1: 1.5}, l1_ratio=0.9, max_iter=1000, penalty=elasticnet, solver=saga; total time=   0.2s\n",
      "[CV] END C=10, class_weight={0: 1, 1: 2.5}, l1_ratio=0.1, max_iter=1000, penalty=elasticnet, solver=saga; total time=   0.2s\n",
      "[CV] END C=10, class_weight={0: 1, 1: 1.5}, l1_ratio=0.1, max_iter=1000, penalty=elasticnet, solver=saga; total time=   0.2s\n",
      "[CV] END C=10, class_weight={0: 1, 1: 1.5}, l1_ratio=0.3, max_iter=1000, penalty=elasticnet, solver=saga; total time=   0.2s\n"
     ]
    },
    {
     "name": "stderr",
     "output_type": "stream",
     "text": [
      "/Users/abhinavramalingam/Documents/Uppsala/SML/.conda/lib/python3.11/site-packages/sklearn/linear_model/_sag.py:349: ConvergenceWarning: The max_iter was reached which means the coef_ did not converge\n",
      "  warnings.warn(\n",
      "/Users/abhinavramalingam/Documents/Uppsala/SML/.conda/lib/python3.11/site-packages/sklearn/linear_model/_sag.py:349: ConvergenceWarning: The max_iter was reached which means the coef_ did not converge\n",
      "  warnings.warn(\n",
      "/Users/abhinavramalingam/Documents/Uppsala/SML/.conda/lib/python3.11/site-packages/sklearn/linear_model/_sag.py:349: ConvergenceWarning: The max_iter was reached which means the coef_ did not converge\n",
      "  warnings.warn(\n",
      "/Users/abhinavramalingam/Documents/Uppsala/SML/.conda/lib/python3.11/site-packages/sklearn/linear_model/_sag.py:349: ConvergenceWarning: The max_iter was reached which means the coef_ did not converge\n",
      "  warnings.warn(\n",
      "/Users/abhinavramalingam/Documents/Uppsala/SML/.conda/lib/python3.11/site-packages/sklearn/linear_model/_sag.py:349: ConvergenceWarning: The max_iter was reached which means the coef_ did not converge\n",
      "  warnings.warn(\n"
     ]
    },
    {
     "name": "stdout",
     "output_type": "stream",
     "text": [
      "[CV] END C=10, class_weight={0: 1, 1: 1.5}, l1_ratio=0.5, max_iter=5000, penalty=elasticnet, solver=saga; total time=   0.3s\n",
      "[CV] END C=10, class_weight={0: 1, 1: 2}, l1_ratio=0.1, max_iter=5000, penalty=elasticnet, solver=saga; total time=   0.2s\n",
      "[CV] END C=10, class_weight={0: 1, 1: 2}, l1_ratio=0.7, max_iter=5000, penalty=elasticnet, solver=saga; total time=   0.3s\n",
      "[CV] END C=10, class_weight={0: 1, 1: 1.5}, l1_ratio=0.9, max_iter=1000, penalty=elasticnet, solver=saga; total time=   0.2s\n",
      "[CV] END C=10, class_weight={0: 1, 1: 2}, l1_ratio=0.5, max_iter=5000, penalty=elasticnet, solver=saga; total time=   0.2s\n",
      "[CV] END C=10, class_weight={0: 1, 1: 2.5}, l1_ratio=0.1, max_iter=1000, penalty=elasticnet, solver=saga; total time=   0.2s\n",
      "[CV] END C=10, class_weight={0: 1, 1: 1.5}, l1_ratio=0.3, max_iter=1000, penalty=elasticnet, solver=saga; total time=   0.2s\n",
      "[CV] END C=10, class_weight={0: 1, 1: 1.5}, l1_ratio=0.1, max_iter=1000, penalty=elasticnet, solver=saga; total time=   0.2s\n",
      "[CV] END C=10, class_weight={0: 1, 1: 2.5}, l1_ratio=0.1, max_iter=1000, penalty=elasticnet, solver=saga; total time=   0.2s\n"
     ]
    },
    {
     "name": "stderr",
     "output_type": "stream",
     "text": [
      "/Users/abhinavramalingam/Documents/Uppsala/SML/.conda/lib/python3.11/site-packages/sklearn/linear_model/_sag.py:349: ConvergenceWarning: The max_iter was reached which means the coef_ did not converge\n",
      "  warnings.warn(\n",
      "/Users/abhinavramalingam/Documents/Uppsala/SML/.conda/lib/python3.11/site-packages/sklearn/linear_model/_sag.py:349: ConvergenceWarning: The max_iter was reached which means the coef_ did not converge\n",
      "  warnings.warn(\n",
      "/Users/abhinavramalingam/Documents/Uppsala/SML/.conda/lib/python3.11/site-packages/sklearn/linear_model/_sag.py:349: ConvergenceWarning: The max_iter was reached which means the coef_ did not converge\n",
      "  warnings.warn(\n",
      "/Users/abhinavramalingam/Documents/Uppsala/SML/.conda/lib/python3.11/site-packages/sklearn/linear_model/_sag.py:349: ConvergenceWarning: The max_iter was reached which means the coef_ did not converge\n",
      "  warnings.warn(\n",
      "/Users/abhinavramalingam/Documents/Uppsala/SML/.conda/lib/python3.11/site-packages/sklearn/linear_model/_sag.py:349: ConvergenceWarning: The max_iter was reached which means the coef_ did not converge\n",
      "  warnings.warn(\n",
      "/Users/abhinavramalingam/Documents/Uppsala/SML/.conda/lib/python3.11/site-packages/sklearn/linear_model/_sag.py:349: ConvergenceWarning: The max_iter was reached which means the coef_ did not converge\n",
      "  warnings.warn(\n"
     ]
    },
    {
     "name": "stdout",
     "output_type": "stream",
     "text": [
      "[CV] END C=10, class_weight={0: 1, 1: 2}, l1_ratio=0.1, max_iter=5000, penalty=elasticnet, solver=saga; total time=   0.2s\n",
      "[CV] END C=10, class_weight={0: 1, 1: 1.5}, l1_ratio=0.9, max_iter=1000, penalty=elasticnet, solver=saga; total time=   0.2s\n",
      "[CV] END C=10, class_weight={0: 1, 1: 2}, l1_ratio=0.7, max_iter=5000, penalty=elasticnet, solver=saga; total time=   0.3s\n",
      "[CV] END C=10, class_weight={0: 1, 1: 1.5}, l1_ratio=0.5, max_iter=5000, penalty=elasticnet, solver=saga; total time=   0.3s\n",
      "[CV] END C=10, class_weight={0: 1, 1: 1.5}, l1_ratio=0.3, max_iter=1000, penalty=elasticnet, solver=saga; total time=   0.2s\n",
      "[CV] END C=10, class_weight={0: 1, 1: 2}, l1_ratio=0.5, max_iter=5000, penalty=elasticnet, solver=saga; total time=   0.3s\n",
      "[CV] END C=10, class_weight={0: 1, 1: 1.5}, l1_ratio=0.9, max_iter=1000, penalty=elasticnet, solver=saga; total time=   0.2s\n",
      "[CV] END C=10, class_weight={0: 1, 1: 2}, l1_ratio=0.3, max_iter=1000, penalty=elasticnet, solver=saga; total time=   0.2s\n",
      "[CV] END C=10, class_weight={0: 1, 1: 1.5}, l1_ratio=0.1, max_iter=1000, penalty=elasticnet, solver=saga; total time=   0.2s\n"
     ]
    },
    {
     "name": "stderr",
     "output_type": "stream",
     "text": [
      "/Users/abhinavramalingam/Documents/Uppsala/SML/.conda/lib/python3.11/site-packages/sklearn/linear_model/_sag.py:349: ConvergenceWarning: The max_iter was reached which means the coef_ did not converge\n",
      "  warnings.warn(\n",
      "/Users/abhinavramalingam/Documents/Uppsala/SML/.conda/lib/python3.11/site-packages/sklearn/linear_model/_sag.py:349: ConvergenceWarning: The max_iter was reached which means the coef_ did not converge\n",
      "  warnings.warn(\n",
      "/Users/abhinavramalingam/Documents/Uppsala/SML/.conda/lib/python3.11/site-packages/sklearn/linear_model/_sag.py:349: ConvergenceWarning: The max_iter was reached which means the coef_ did not converge\n",
      "  warnings.warn(\n",
      "/Users/abhinavramalingam/Documents/Uppsala/SML/.conda/lib/python3.11/site-packages/sklearn/linear_model/_sag.py:349: ConvergenceWarning: The max_iter was reached which means the coef_ did not converge\n",
      "  warnings.warn(\n",
      "/Users/abhinavramalingam/Documents/Uppsala/SML/.conda/lib/python3.11/site-packages/sklearn/linear_model/_sag.py:349: ConvergenceWarning: The max_iter was reached which means the coef_ did not converge\n",
      "  warnings.warn(\n",
      "/Users/abhinavramalingam/Documents/Uppsala/SML/.conda/lib/python3.11/site-packages/sklearn/linear_model/_sag.py:349: ConvergenceWarning: The max_iter was reached which means the coef_ did not converge\n",
      "  warnings.warn(\n"
     ]
    },
    {
     "name": "stdout",
     "output_type": "stream",
     "text": [
      "[CV] END C=10, class_weight={0: 1, 1: 2.5}, l1_ratio=0.1, max_iter=5000, penalty=elasticnet, solver=saga; total time=   0.2s\n",
      "[CV] END C=10, class_weight={0: 1, 1: 2}, l1_ratio=0.9, max_iter=1000, penalty=elasticnet, solver=saga; total time=   0.2s\n",
      "[CV] END C=10, class_weight={0: 1, 1: 1.5}, l1_ratio=0.3, max_iter=1000, penalty=elasticnet, solver=saga; total time=   0.2s\n",
      "[CV] END C=10, class_weight={0: 1, 1: 1.5}, l1_ratio=0.5, max_iter=5000, penalty=elasticnet, solver=saga; total time=   0.2s\n",
      "[CV] END C=10, class_weight={0: 1, 1: 2}, l1_ratio=0.3, max_iter=1000, penalty=elasticnet, solver=saga; total time=   0.2s\n",
      "[CV] END C=10, class_weight={0: 1, 1: 1.5}, l1_ratio=0.1, max_iter=1000, penalty=elasticnet, solver=saga; total time=   0.2s\n"
     ]
    },
    {
     "name": "stderr",
     "output_type": "stream",
     "text": [
      "/Users/abhinavramalingam/Documents/Uppsala/SML/.conda/lib/python3.11/site-packages/sklearn/linear_model/_sag.py:349: ConvergenceWarning: The max_iter was reached which means the coef_ did not converge\n",
      "  warnings.warn(\n",
      "/Users/abhinavramalingam/Documents/Uppsala/SML/.conda/lib/python3.11/site-packages/sklearn/linear_model/_sag.py:349: ConvergenceWarning: The max_iter was reached which means the coef_ did not converge\n",
      "  warnings.warn(\n",
      "/Users/abhinavramalingam/Documents/Uppsala/SML/.conda/lib/python3.11/site-packages/sklearn/linear_model/_sag.py:349: ConvergenceWarning: The max_iter was reached which means the coef_ did not converge\n",
      "  warnings.warn(\n",
      "/Users/abhinavramalingam/Documents/Uppsala/SML/.conda/lib/python3.11/site-packages/sklearn/linear_model/_sag.py:349: ConvergenceWarning: The max_iter was reached which means the coef_ did not converge\n",
      "  warnings.warn(\n",
      "/Users/abhinavramalingam/Documents/Uppsala/SML/.conda/lib/python3.11/site-packages/sklearn/linear_model/_sag.py:349: ConvergenceWarning: The max_iter was reached which means the coef_ did not converge\n",
      "  warnings.warn(\n"
     ]
    },
    {
     "name": "stdout",
     "output_type": "stream",
     "text": [
      "[CV] END C=10, class_weight={0: 1, 1: 2}, l1_ratio=0.9, max_iter=1000, penalty=elasticnet, solver=saga; total time=   0.2s\n",
      "[CV] END C=10, class_weight={0: 1, 1: 2}, l1_ratio=0.5, max_iter=5000, penalty=elasticnet, solver=saga; total time=   0.3s\n",
      "[CV] END C=10, class_weight={0: 1, 1: 2.5}, l1_ratio=0.1, max_iter=5000, penalty=elasticnet, solver=saga; total time=   0.3s\n",
      "[CV] END C=10, class_weight={0: 1, 1: 1.5}, l1_ratio=0.3, max_iter=1000, penalty=elasticnet, solver=saga; total time=   0.2s\n",
      "[CV] END C=10, class_weight={0: 1, 1: 1.5}, l1_ratio=0.9, max_iter=5000, penalty=elasticnet, solver=saga; total time=   0.4s\n",
      "[CV] END C=10, class_weight={0: 1, 1: 1.5}, l1_ratio=0.5, max_iter=5000, penalty=elasticnet, solver=saga; total time=   0.2s\n",
      "[CV] END C=10, class_weight={0: 1, 1: 2}, l1_ratio=0.3, max_iter=1000, penalty=elasticnet, solver=saga; total time=   0.2s\n",
      "[CV] END C=10, class_weight={0: 1, 1: 1.5}, l1_ratio=0.1, max_iter=1000, penalty=elasticnet, solver=saga; total time=   0.2s\n",
      "[CV] END C=10, class_weight={0: 1, 1: 2}, l1_ratio=0.9, max_iter=1000, penalty=elasticnet, solver=saga; total time=   0.2s\n"
     ]
    },
    {
     "name": "stderr",
     "output_type": "stream",
     "text": [
      "/Users/abhinavramalingam/Documents/Uppsala/SML/.conda/lib/python3.11/site-packages/sklearn/linear_model/_sag.py:349: ConvergenceWarning: The max_iter was reached which means the coef_ did not converge\n",
      "  warnings.warn(\n",
      "/Users/abhinavramalingam/Documents/Uppsala/SML/.conda/lib/python3.11/site-packages/sklearn/linear_model/_sag.py:349: ConvergenceWarning: The max_iter was reached which means the coef_ did not converge\n",
      "  warnings.warn(\n",
      "/Users/abhinavramalingam/Documents/Uppsala/SML/.conda/lib/python3.11/site-packages/sklearn/linear_model/_sag.py:349: ConvergenceWarning: The max_iter was reached which means the coef_ did not converge\n",
      "  warnings.warn(\n",
      "/Users/abhinavramalingam/Documents/Uppsala/SML/.conda/lib/python3.11/site-packages/sklearn/linear_model/_sag.py:349: ConvergenceWarning: The max_iter was reached which means the coef_ did not converge\n",
      "  warnings.warn(\n"
     ]
    },
    {
     "name": "stdout",
     "output_type": "stream",
     "text": [
      "[CV] END C=10, class_weight={0: 1, 1: 2}, l1_ratio=0.5, max_iter=5000, penalty=elasticnet, solver=saga; total time=   0.3s\n",
      "[CV] END C=10, class_weight={0: 1, 1: 1.5}, l1_ratio=0.3, max_iter=5000, penalty=elasticnet, solver=saga; total time=   0.2s\n",
      "[CV] END C=10, class_weight={0: 1, 1: 2.5}, l1_ratio=0.1, max_iter=5000, penalty=elasticnet, solver=saga; total time=   0.2s\n",
      "[CV] END C=10, class_weight={0: 1, 1: 1.5}, l1_ratio=0.7, max_iter=1000, penalty=elasticnet, solver=saga; total time=   0.2s\n",
      "[CV] END C=10, class_weight={0: 1, 1: 2}, l1_ratio=0.3, max_iter=1000, penalty=elasticnet, solver=saga; total time=   0.2s\n",
      "[CV] END C=10, class_weight={0: 1, 1: 1.5}, l1_ratio=0.1, max_iter=5000, penalty=elasticnet, solver=saga; total time=   0.2s\n",
      "[CV] END C=10, class_weight={0: 1, 1: 2}, l1_ratio=0.9, max_iter=1000, penalty=elasticnet, solver=saga; total time=   0.2s\n"
     ]
    },
    {
     "name": "stderr",
     "output_type": "stream",
     "text": [
      "/Users/abhinavramalingam/Documents/Uppsala/SML/.conda/lib/python3.11/site-packages/sklearn/linear_model/_sag.py:349: ConvergenceWarning: The max_iter was reached which means the coef_ did not converge\n",
      "  warnings.warn(\n",
      "/Users/abhinavramalingam/Documents/Uppsala/SML/.conda/lib/python3.11/site-packages/sklearn/linear_model/_sag.py:349: ConvergenceWarning: The max_iter was reached which means the coef_ did not converge\n",
      "  warnings.warn(\n",
      "/Users/abhinavramalingam/Documents/Uppsala/SML/.conda/lib/python3.11/site-packages/sklearn/linear_model/_sag.py:349: ConvergenceWarning: The max_iter was reached which means the coef_ did not converge\n",
      "  warnings.warn(\n"
     ]
    },
    {
     "name": "stdout",
     "output_type": "stream",
     "text": [
      "[CV] END C=10, class_weight={0: 1, 1: 1.5}, l1_ratio=0.7, max_iter=1000, penalty=elasticnet, solver=saga; total time=   0.2s\n",
      "[CV] END C=10, class_weight={0: 1, 1: 2}, l1_ratio=0.3, max_iter=1000, penalty=elasticnet, solver=saga; total time=   0.2s\n",
      "[CV] END C=10, class_weight={0: 1, 1: 2}, l1_ratio=0.5, max_iter=5000, penalty=elasticnet, solver=saga; total time=   0.3s\n",
      "[CV] END C=10, class_weight={0: 1, 1: 2.5}, l1_ratio=0.1, max_iter=5000, penalty=elasticnet, solver=saga; total time=   0.2s\n",
      "[CV] END C=10, class_weight={0: 1, 1: 2}, l1_ratio=0.9, max_iter=1000, penalty=elasticnet, solver=saga; total time=   0.2s\n",
      "[CV] END C=10, class_weight={0: 1, 1: 1.5}, l1_ratio=0.3, max_iter=5000, penalty=elasticnet, solver=saga; total time=   0.3s\n",
      "[CV] END C=10, class_weight={0: 1, 1: 1.5}, l1_ratio=0.9, max_iter=5000, penalty=elasticnet, solver=saga; total time=   0.5s\n",
      "[CV] END C=10, class_weight={0: 1, 1: 2.5}, l1_ratio=0.3, max_iter=5000, penalty=elasticnet, solver=saga; total time=   0.3s\n",
      "[CV] END C=10, class_weight={0: 1, 1: 2}, l1_ratio=0.7, max_iter=1000, penalty=elasticnet, solver=saga; total time=   0.2s\n",
      "[CV] END C=10, class_weight={0: 1, 1: 1.5}, l1_ratio=0.7, max_iter=1000, penalty=elasticnet, solver=saga; total time=   0.2s\n"
     ]
    },
    {
     "name": "stderr",
     "output_type": "stream",
     "text": [
      "/Users/abhinavramalingam/Documents/Uppsala/SML/.conda/lib/python3.11/site-packages/sklearn/linear_model/_sag.py:349: ConvergenceWarning: The max_iter was reached which means the coef_ did not converge\n",
      "  warnings.warn(\n",
      "/Users/abhinavramalingam/Documents/Uppsala/SML/.conda/lib/python3.11/site-packages/sklearn/linear_model/_sag.py:349: ConvergenceWarning: The max_iter was reached which means the coef_ did not converge\n",
      "  warnings.warn(\n",
      "/Users/abhinavramalingam/Documents/Uppsala/SML/.conda/lib/python3.11/site-packages/sklearn/linear_model/_sag.py:349: ConvergenceWarning: The max_iter was reached which means the coef_ did not converge\n",
      "  warnings.warn(\n"
     ]
    },
    {
     "name": "stdout",
     "output_type": "stream",
     "text": [
      "[CV] END C=10, class_weight={0: 1, 1: 2.5}, l1_ratio=0.1, max_iter=5000, penalty=elasticnet, solver=saga; total time=   0.2s\n",
      "[CV] END C=10, class_weight={0: 1, 1: 2}, l1_ratio=0.3, max_iter=5000, penalty=elasticnet, solver=saga; total time=   0.2s\n",
      "[CV] END C=10, class_weight={0: 1, 1: 2.5}, l1_ratio=0.3, max_iter=5000, penalty=elasticnet, solver=saga; total time=   0.2s\n",
      "[CV] END C=10, class_weight={0: 1, 1: 1.5}, l1_ratio=0.3, max_iter=5000, penalty=elasticnet, solver=saga; total time=   0.3s\n",
      "[CV] END C=10, class_weight={0: 1, 1: 2}, l1_ratio=0.7, max_iter=1000, penalty=elasticnet, solver=saga; total time=   0.2s\n",
      "[CV] END C=10, class_weight={0: 1, 1: 1.5}, l1_ratio=0.7, max_iter=1000, penalty=elasticnet, solver=saga; total time=   0.2s\n",
      "[CV] END C=10, class_weight={0: 1, 1: 2.5}, l1_ratio=0.3, max_iter=1000, penalty=elasticnet, solver=saga; total time=   0.2s\n"
     ]
    },
    {
     "name": "stderr",
     "output_type": "stream",
     "text": [
      "/Users/abhinavramalingam/Documents/Uppsala/SML/.conda/lib/python3.11/site-packages/sklearn/linear_model/_sag.py:349: ConvergenceWarning: The max_iter was reached which means the coef_ did not converge\n",
      "  warnings.warn(\n",
      "/Users/abhinavramalingam/Documents/Uppsala/SML/.conda/lib/python3.11/site-packages/sklearn/linear_model/_sag.py:349: ConvergenceWarning: The max_iter was reached which means the coef_ did not converge\n",
      "  warnings.warn(\n",
      "/Users/abhinavramalingam/Documents/Uppsala/SML/.conda/lib/python3.11/site-packages/sklearn/linear_model/_sag.py:349: ConvergenceWarning: The max_iter was reached which means the coef_ did not converge\n",
      "  warnings.warn(\n",
      "/Users/abhinavramalingam/Documents/Uppsala/SML/.conda/lib/python3.11/site-packages/sklearn/linear_model/_sag.py:349: ConvergenceWarning: The max_iter was reached which means the coef_ did not converge\n",
      "  warnings.warn(\n",
      "/Users/abhinavramalingam/Documents/Uppsala/SML/.conda/lib/python3.11/site-packages/sklearn/linear_model/_sag.py:349: ConvergenceWarning: The max_iter was reached which means the coef_ did not converge\n",
      "  warnings.warn(\n",
      "/Users/abhinavramalingam/Documents/Uppsala/SML/.conda/lib/python3.11/site-packages/sklearn/linear_model/_sag.py:349: ConvergenceWarning: The max_iter was reached which means the coef_ did not converge\n",
      "  warnings.warn(\n",
      "/Users/abhinavramalingam/Documents/Uppsala/SML/.conda/lib/python3.11/site-packages/sklearn/linear_model/_sag.py:349: ConvergenceWarning: The max_iter was reached which means the coef_ did not converge\n",
      "  warnings.warn(\n"
     ]
    },
    {
     "name": "stdout",
     "output_type": "stream",
     "text": [
      "[CV] END C=10, class_weight={0: 1, 1: 2}, l1_ratio=0.9, max_iter=5000, penalty=elasticnet, solver=saga; total time=   0.4s\n",
      "[CV] END C=10, class_weight={0: 1, 1: 1.5}, l1_ratio=0.9, max_iter=5000, penalty=elasticnet, solver=saga; total time=   0.4s\n",
      "[CV] END C=10, class_weight={0: 1, 1: 2.5}, l1_ratio=0.5, max_iter=1000, penalty=elasticnet, solver=saga; total time=   0.2s\n",
      "[CV] END C=10, class_weight={0: 1, 1: 2}, l1_ratio=0.7, max_iter=1000, penalty=elasticnet, solver=saga; total time=   0.2s\n",
      "[CV] END C=10, class_weight={0: 1, 1: 2}, l1_ratio=0.3, max_iter=5000, penalty=elasticnet, solver=saga; total time=   0.3s\n",
      "[CV] END C=10, class_weight={0: 1, 1: 1.5}, l1_ratio=0.7, max_iter=1000, penalty=elasticnet, solver=saga; total time=   0.2s\n",
      "[CV] END C=10, class_weight={0: 1, 1: 2.5}, l1_ratio=0.3, max_iter=1000, penalty=elasticnet, solver=saga; total time=   0.2s\n",
      "[CV] END C=10, class_weight={0: 1, 1: 1.5}, l1_ratio=0.3, max_iter=5000, penalty=elasticnet, solver=saga; total time=   0.2s\n"
     ]
    },
    {
     "name": "stderr",
     "output_type": "stream",
     "text": [
      "/Users/abhinavramalingam/Documents/Uppsala/SML/.conda/lib/python3.11/site-packages/sklearn/linear_model/_sag.py:349: ConvergenceWarning: The max_iter was reached which means the coef_ did not converge\n",
      "  warnings.warn(\n",
      "/Users/abhinavramalingam/Documents/Uppsala/SML/.conda/lib/python3.11/site-packages/sklearn/linear_model/_sag.py:349: ConvergenceWarning: The max_iter was reached which means the coef_ did not converge\n",
      "  warnings.warn(\n",
      "/Users/abhinavramalingam/Documents/Uppsala/SML/.conda/lib/python3.11/site-packages/sklearn/linear_model/_sag.py:349: ConvergenceWarning: The max_iter was reached which means the coef_ did not converge\n",
      "  warnings.warn(\n",
      "/Users/abhinavramalingam/Documents/Uppsala/SML/.conda/lib/python3.11/site-packages/sklearn/linear_model/_sag.py:349: ConvergenceWarning: The max_iter was reached which means the coef_ did not converge\n",
      "  warnings.warn(\n"
     ]
    },
    {
     "name": "stdout",
     "output_type": "stream",
     "text": [
      "[CV] END C=10, class_weight={0: 1, 1: 2.5}, l1_ratio=0.5, max_iter=1000, penalty=elasticnet, solver=saga; total time=   0.2s\n",
      "[CV] END C=10, class_weight={0: 1, 1: 2}, l1_ratio=0.7, max_iter=1000, penalty=elasticnet, solver=saga; total time=   0.2s\n",
      "[CV] END C=10, class_weight={0: 1, 1: 2.5}, l1_ratio=0.3, max_iter=1000, penalty=elasticnet, solver=saga; total time=   0.2s\n",
      "[CV] END C=10, class_weight={0: 1, 1: 2}, l1_ratio=0.3, max_iter=5000, penalty=elasticnet, solver=saga; total time=   0.3s\n",
      "[CV] END C=10, class_weight={0: 1, 1: 1.5}, l1_ratio=0.3, max_iter=5000, penalty=elasticnet, solver=saga; total time=   0.2s\n",
      "[CV] END C=10, class_weight={0: 1, 1: 1.5}, l1_ratio=0.7, max_iter=5000, penalty=elasticnet, solver=saga; total time=   0.3s\n",
      "[CV] END C=10, class_weight={0: 1, 1: 1.5}, l1_ratio=0.9, max_iter=5000, penalty=elasticnet, solver=saga; total time=   0.3s\n",
      "[CV] END C=10, class_weight={0: 1, 1: 2.5}, l1_ratio=0.5, max_iter=1000, penalty=elasticnet, solver=saga; total time=   0.2s\n"
     ]
    },
    {
     "name": "stderr",
     "output_type": "stream",
     "text": [
      "/Users/abhinavramalingam/Documents/Uppsala/SML/.conda/lib/python3.11/site-packages/sklearn/linear_model/_sag.py:349: ConvergenceWarning: The max_iter was reached which means the coef_ did not converge\n",
      "  warnings.warn(\n",
      "/Users/abhinavramalingam/Documents/Uppsala/SML/.conda/lib/python3.11/site-packages/sklearn/linear_model/_sag.py:349: ConvergenceWarning: The max_iter was reached which means the coef_ did not converge\n",
      "  warnings.warn(\n",
      "/Users/abhinavramalingam/Documents/Uppsala/SML/.conda/lib/python3.11/site-packages/sklearn/linear_model/_sag.py:349: ConvergenceWarning: The max_iter was reached which means the coef_ did not converge\n",
      "  warnings.warn(\n",
      "/Users/abhinavramalingam/Documents/Uppsala/SML/.conda/lib/python3.11/site-packages/sklearn/linear_model/_sag.py:349: ConvergenceWarning: The max_iter was reached which means the coef_ did not converge\n",
      "  warnings.warn(\n"
     ]
    },
    {
     "name": "stdout",
     "output_type": "stream",
     "text": [
      "[CV] END C=10, class_weight={0: 1, 1: 2}, l1_ratio=0.7, max_iter=1000, penalty=elasticnet, solver=saga; total time=   0.2s\n",
      "[CV] END C=10, class_weight={0: 1, 1: 2.5}, l1_ratio=0.3, max_iter=1000, penalty=elasticnet, solver=saga; total time=   0.2s\n",
      "[CV] END C=10, class_weight={0: 1, 1: 2}, l1_ratio=0.9, max_iter=5000, penalty=elasticnet, solver=saga; total time=   0.5s\n",
      "[CV] END C=10, class_weight={0: 1, 1: 1.5}, l1_ratio=0.5, max_iter=1000, penalty=elasticnet, solver=saga; total time=   0.2s\n",
      "[CV] END C=10, class_weight={0: 1, 1: 2}, l1_ratio=0.3, max_iter=5000, penalty=elasticnet, solver=saga; total time=   0.2s\n",
      "[CV] END C=10, class_weight={0: 1, 1: 2.5}, l1_ratio=0.5, max_iter=1000, penalty=elasticnet, solver=saga; total time=   0.2s\n",
      "[CV] END C=10, class_weight={0: 1, 1: 1.5}, l1_ratio=0.9, max_iter=5000, penalty=elasticnet, solver=saga; total time=   0.3s\n",
      "[CV] END C=10, class_weight={0: 1, 1: 2.5}, l1_ratio=0.3, max_iter=1000, penalty=elasticnet, solver=saga; total time=   0.2s\n"
     ]
    },
    {
     "name": "stderr",
     "output_type": "stream",
     "text": [
      "/Users/abhinavramalingam/Documents/Uppsala/SML/.conda/lib/python3.11/site-packages/sklearn/linear_model/_sag.py:349: ConvergenceWarning: The max_iter was reached which means the coef_ did not converge\n",
      "  warnings.warn(\n",
      "/Users/abhinavramalingam/Documents/Uppsala/SML/.conda/lib/python3.11/site-packages/sklearn/linear_model/_sag.py:349: ConvergenceWarning: The max_iter was reached which means the coef_ did not converge\n",
      "  warnings.warn(\n",
      "/Users/abhinavramalingam/Documents/Uppsala/SML/.conda/lib/python3.11/site-packages/sklearn/linear_model/_sag.py:349: ConvergenceWarning: The max_iter was reached which means the coef_ did not converge\n",
      "  warnings.warn(\n",
      "/Users/abhinavramalingam/Documents/Uppsala/SML/.conda/lib/python3.11/site-packages/sklearn/linear_model/_sag.py:349: ConvergenceWarning: The max_iter was reached which means the coef_ did not converge\n",
      "  warnings.warn(\n"
     ]
    },
    {
     "name": "stdout",
     "output_type": "stream",
     "text": [
      "[CV] END C=10, class_weight={0: 1, 1: 1.5}, l1_ratio=0.5, max_iter=1000, penalty=elasticnet, solver=saga; total time=   0.2s\n",
      "[CV] END C=10, class_weight={0: 1, 1: 1.5}, l1_ratio=0.7, max_iter=5000, penalty=elasticnet, solver=saga; total time=   0.4s\n",
      "[CV] END C=10, class_weight={0: 1, 1: 2}, l1_ratio=0.7, max_iter=5000, penalty=elasticnet, solver=saga; total time=   0.3s\n",
      "[CV] END C=10, class_weight={0: 1, 1: 2.5}, l1_ratio=0.5, max_iter=1000, penalty=elasticnet, solver=saga; total time=   0.2s\n",
      "[CV] END C=10, class_weight={0: 1, 1: 2}, l1_ratio=0.3, max_iter=5000, penalty=elasticnet, solver=saga; total time=   0.2s\n",
      "[CV] END C=10, class_weight={0: 1, 1: 2}, l1_ratio=0.1, max_iter=1000, penalty=elasticnet, solver=saga; total time=   0.2s\n",
      "[CV] END C=10, class_weight={0: 1, 1: 2.5}, l1_ratio=0.7, max_iter=1000, penalty=elasticnet, solver=saga; total time=   0.2s\n"
     ]
    },
    {
     "name": "stderr",
     "output_type": "stream",
     "text": [
      "/Users/abhinavramalingam/Documents/Uppsala/SML/.conda/lib/python3.11/site-packages/sklearn/linear_model/_sag.py:349: ConvergenceWarning: The max_iter was reached which means the coef_ did not converge\n",
      "  warnings.warn(\n",
      "/Users/abhinavramalingam/Documents/Uppsala/SML/.conda/lib/python3.11/site-packages/sklearn/linear_model/_sag.py:349: ConvergenceWarning: The max_iter was reached which means the coef_ did not converge\n",
      "  warnings.warn(\n",
      "/Users/abhinavramalingam/Documents/Uppsala/SML/.conda/lib/python3.11/site-packages/sklearn/linear_model/_sag.py:349: ConvergenceWarning: The max_iter was reached which means the coef_ did not converge\n",
      "  warnings.warn(\n"
     ]
    },
    {
     "name": "stdout",
     "output_type": "stream",
     "text": [
      "[CV] END C=10, class_weight={0: 1, 1: 2}, l1_ratio=0.9, max_iter=5000, penalty=elasticnet, solver=saga; total time=   0.4s\n",
      "[CV] END C=10, class_weight={0: 1, 1: 2.5}, l1_ratio=0.3, max_iter=5000, penalty=elasticnet, solver=saga; total time=   0.3s\n",
      "[CV] END C=100, class_weight={0: 1, 1: 1.5}, l1_ratio=0.1, max_iter=1000, penalty=elasticnet, solver=saga; total time=   0.2s\n",
      "[CV] END C=10, class_weight={0: 1, 1: 2}, l1_ratio=0.1, max_iter=1000, penalty=elasticnet, solver=saga; total time=   0.2s\n",
      "[CV] END C=10, class_weight={0: 1, 1: 2.5}, l1_ratio=0.5, max_iter=5000, penalty=elasticnet, solver=saga; total time=   0.3s\n",
      "[CV] END C=10, class_weight={0: 1, 1: 1.5}, l1_ratio=0.7, max_iter=5000, penalty=elasticnet, solver=saga; total time=   0.3s\n"
     ]
    },
    {
     "name": "stderr",
     "output_type": "stream",
     "text": [
      "/Users/abhinavramalingam/Documents/Uppsala/SML/.conda/lib/python3.11/site-packages/sklearn/linear_model/_sag.py:349: ConvergenceWarning: The max_iter was reached which means the coef_ did not converge\n",
      "  warnings.warn(\n",
      "/Users/abhinavramalingam/Documents/Uppsala/SML/.conda/lib/python3.11/site-packages/sklearn/linear_model/_sag.py:349: ConvergenceWarning: The max_iter was reached which means the coef_ did not converge\n",
      "  warnings.warn(\n",
      "/Users/abhinavramalingam/Documents/Uppsala/SML/.conda/lib/python3.11/site-packages/sklearn/linear_model/_sag.py:349: ConvergenceWarning: The max_iter was reached which means the coef_ did not converge\n",
      "  warnings.warn(\n",
      "/Users/abhinavramalingam/Documents/Uppsala/SML/.conda/lib/python3.11/site-packages/sklearn/linear_model/_sag.py:349: ConvergenceWarning: The max_iter was reached which means the coef_ did not converge\n",
      "  warnings.warn(\n"
     ]
    },
    {
     "name": "stdout",
     "output_type": "stream",
     "text": [
      "[CV] END C=100, class_weight={0: 1, 1: 1.5}, l1_ratio=0.1, max_iter=1000, penalty=elasticnet, solver=saga; total time=   0.2s\n",
      "[CV] END C=10, class_weight={0: 1, 1: 2.5}, l1_ratio=0.7, max_iter=5000, penalty=elasticnet, solver=saga; total time=   0.3s\n",
      "[CV] END C=10, class_weight={0: 1, 1: 2}, l1_ratio=0.1, max_iter=1000, penalty=elasticnet, solver=saga; total time=   0.2s\n",
      "[CV] END C=10, class_weight={0: 1, 1: 2.5}, l1_ratio=0.3, max_iter=5000, penalty=elasticnet, solver=saga; total time=   0.3s\n",
      "[CV] END C=100, class_weight={0: 1, 1: 1.5}, l1_ratio=0.7, max_iter=1000, penalty=elasticnet, solver=saga; total time=   0.2s\n",
      "[CV] END C=10, class_weight={0: 1, 1: 2}, l1_ratio=0.9, max_iter=5000, penalty=elasticnet, solver=saga; total time=   0.4s\n",
      "[CV] END C=100, class_weight={0: 1, 1: 1.5}, l1_ratio=0.1, max_iter=1000, penalty=elasticnet, solver=saga; total time=   0.1s\n",
      "[CV] END C=10, class_weight={0: 1, 1: 2.5}, l1_ratio=0.5, max_iter=5000, penalty=elasticnet, solver=saga; total time=   0.4s\n",
      "[CV] END C=100, class_weight={0: 1, 1: 1.5}, l1_ratio=0.7, max_iter=1000, penalty=elasticnet, solver=saga; total time=   0.2s\n",
      "[CV] END C=10, class_weight={0: 1, 1: 2.5}, l1_ratio=0.3, max_iter=5000, penalty=elasticnet, solver=saga; total time=   0.2s\n",
      "[CV] END C=10, class_weight={0: 1, 1: 2}, l1_ratio=0.1, max_iter=1000, penalty=elasticnet, solver=saga; total time=   0.2s\n",
      "[CV] END C=100, class_weight={0: 1, 1: 1.5}, l1_ratio=0.1, max_iter=1000, penalty=elasticnet, solver=saga; total time=   0.2s\n",
      "[CV] END C=100, class_weight={0: 1, 1: 1.5}, l1_ratio=0.3, max_iter=5000, penalty=elasticnet, solver=saga; total time=   0.7s\n",
      "[CV] END C=10, class_weight={0: 1, 1: 2}, l1_ratio=0.9, max_iter=5000, penalty=elasticnet, solver=saga; total time=   0.3s\n",
      "[CV] END C=10, class_weight={0: 1, 1: 2.5}, l1_ratio=0.7, max_iter=5000, penalty=elasticnet, solver=saga; total time=   0.4s\n",
      "[CV] END C=100, class_weight={0: 1, 1: 1.5}, l1_ratio=0.7, max_iter=1000, penalty=elasticnet, solver=saga; total time=   0.2s\n"
     ]
    },
    {
     "name": "stderr",
     "output_type": "stream",
     "text": [
      "/Users/abhinavramalingam/Documents/Uppsala/SML/.conda/lib/python3.11/site-packages/sklearn/linear_model/_sag.py:349: ConvergenceWarning: The max_iter was reached which means the coef_ did not converge\n",
      "  warnings.warn(\n",
      "/Users/abhinavramalingam/Documents/Uppsala/SML/.conda/lib/python3.11/site-packages/sklearn/linear_model/_sag.py:349: ConvergenceWarning: The max_iter was reached which means the coef_ did not converge\n",
      "  warnings.warn(\n",
      "/Users/abhinavramalingam/Documents/Uppsala/SML/.conda/lib/python3.11/site-packages/sklearn/linear_model/_sag.py:349: ConvergenceWarning: The max_iter was reached which means the coef_ did not converge\n",
      "  warnings.warn(\n",
      "/Users/abhinavramalingam/Documents/Uppsala/SML/.conda/lib/python3.11/site-packages/sklearn/linear_model/_sag.py:349: ConvergenceWarning: The max_iter was reached which means the coef_ did not converge\n",
      "  warnings.warn(\n",
      "/Users/abhinavramalingam/Documents/Uppsala/SML/.conda/lib/python3.11/site-packages/sklearn/linear_model/_sag.py:349: ConvergenceWarning: The max_iter was reached which means the coef_ did not converge\n",
      "  warnings.warn(\n"
     ]
    },
    {
     "name": "stdout",
     "output_type": "stream",
     "text": [
      "[CV] END C=100, class_weight={0: 1, 1: 1.5}, l1_ratio=0.1, max_iter=1000, penalty=elasticnet, solver=saga; total time=   0.2s\n",
      "[CV] END C=10, class_weight={0: 1, 1: 2.5}, l1_ratio=0.5, max_iter=5000, penalty=elasticnet, solver=saga; total time=   0.3s\n",
      "[CV] END C=10, class_weight={0: 1, 1: 2.5}, l1_ratio=0.1, max_iter=1000, penalty=elasticnet, solver=saga; total time=   0.2s\n"
     ]
    },
    {
     "name": "stderr",
     "output_type": "stream",
     "text": [
      "/Users/abhinavramalingam/Documents/Uppsala/SML/.conda/lib/python3.11/site-packages/sklearn/linear_model/_sag.py:349: ConvergenceWarning: The max_iter was reached which means the coef_ did not converge\n",
      "  warnings.warn(\n",
      "/Users/abhinavramalingam/Documents/Uppsala/SML/.conda/lib/python3.11/site-packages/sklearn/linear_model/_sag.py:349: ConvergenceWarning: The max_iter was reached which means the coef_ did not converge\n",
      "  warnings.warn(\n"
     ]
    },
    {
     "name": "stdout",
     "output_type": "stream",
     "text": [
      "[CV] END C=10, class_weight={0: 1, 1: 2.5}, l1_ratio=0.7, max_iter=5000, penalty=elasticnet, solver=saga; total time=   0.4s\n",
      "[CV] END C=10, class_weight={0: 1, 1: 2.5}, l1_ratio=0.1, max_iter=1000, penalty=elasticnet, solver=saga; total time=   0.2s\n",
      "[CV] END C=100, class_weight={0: 1, 1: 1.5}, l1_ratio=0.9, max_iter=5000, penalty=elasticnet, solver=saga; total time=   0.5s\n",
      "[CV] END C=10, class_weight={0: 1, 1: 2.5}, l1_ratio=0.5, max_iter=5000, penalty=elasticnet, solver=saga; total time=   0.3s\n",
      "[CV] END C=100, class_weight={0: 1, 1: 1.5}, l1_ratio=0.3, max_iter=5000, penalty=elasticnet, solver=saga; total time=   0.5s\n",
      "[CV] END C=100, class_weight={0: 1, 1: 1.5}, l1_ratio=0.9, max_iter=5000, penalty=elasticnet, solver=saga; total time=   0.6s\n",
      "[CV] END C=100, class_weight={0: 1, 1: 2}, l1_ratio=0.1, max_iter=1000, penalty=elasticnet, solver=saga; total time=   0.2s\n",
      "[CV] END C=100, class_weight={0: 1, 1: 2}, l1_ratio=0.1, max_iter=1000, penalty=elasticnet, solver=saga; total time=   0.2s\n"
     ]
    },
    {
     "name": "stderr",
     "output_type": "stream",
     "text": [
      "/Users/abhinavramalingam/Documents/Uppsala/SML/.conda/lib/python3.11/site-packages/sklearn/linear_model/_sag.py:349: ConvergenceWarning: The max_iter was reached which means the coef_ did not converge\n",
      "  warnings.warn(\n",
      "/Users/abhinavramalingam/Documents/Uppsala/SML/.conda/lib/python3.11/site-packages/sklearn/linear_model/_sag.py:349: ConvergenceWarning: The max_iter was reached which means the coef_ did not converge\n",
      "  warnings.warn(\n",
      "/Users/abhinavramalingam/Documents/Uppsala/SML/.conda/lib/python3.11/site-packages/sklearn/linear_model/_sag.py:349: ConvergenceWarning: The max_iter was reached which means the coef_ did not converge\n",
      "  warnings.warn(\n",
      "/Users/abhinavramalingam/Documents/Uppsala/SML/.conda/lib/python3.11/site-packages/sklearn/linear_model/_sag.py:349: ConvergenceWarning: The max_iter was reached which means the coef_ did not converge\n",
      "  warnings.warn(\n",
      "/Users/abhinavramalingam/Documents/Uppsala/SML/.conda/lib/python3.11/site-packages/sklearn/linear_model/_sag.py:349: ConvergenceWarning: The max_iter was reached which means the coef_ did not converge\n",
      "  warnings.warn(\n"
     ]
    },
    {
     "name": "stdout",
     "output_type": "stream",
     "text": [
      "[CV] END C=10, class_weight={0: 1, 1: 2.5}, l1_ratio=0.5, max_iter=5000, penalty=elasticnet, solver=saga; total time=   0.2s\n",
      "[CV] END C=100, class_weight={0: 1, 1: 1.5}, l1_ratio=0.1, max_iter=5000, penalty=elasticnet, solver=saga; total time=   0.6s\n",
      "[CV] END C=10, class_weight={0: 1, 1: 2.5}, l1_ratio=0.7, max_iter=5000, penalty=elasticnet, solver=saga; total time=   0.3s\n",
      "[CV] END C=100, class_weight={0: 1, 1: 2}, l1_ratio=0.1, max_iter=1000, penalty=elasticnet, solver=saga; total time=   0.2s\n",
      "[CV] END C=100, class_weight={0: 1, 1: 1.5}, l1_ratio=0.7, max_iter=5000, penalty=elasticnet, solver=saga; total time=   0.7s\n",
      "[CV] END C=100, class_weight={0: 1, 1: 2}, l1_ratio=0.1, max_iter=1000, penalty=elasticnet, solver=saga; total time=   0.2s\n",
      "[CV] END C=100, class_weight={0: 1, 1: 2}, l1_ratio=0.1, max_iter=1000, penalty=elasticnet, solver=saga; total time=   0.2s\n",
      "[CV] END C=10, class_weight={0: 1, 1: 2.5}, l1_ratio=0.7, max_iter=1000, penalty=elasticnet, solver=saga; total time=   0.2s\n"
     ]
    },
    {
     "name": "stderr",
     "output_type": "stream",
     "text": [
      "/Users/abhinavramalingam/Documents/Uppsala/SML/.conda/lib/python3.11/site-packages/sklearn/linear_model/_sag.py:349: ConvergenceWarning: The max_iter was reached which means the coef_ did not converge\n",
      "  warnings.warn(\n",
      "/Users/abhinavramalingam/Documents/Uppsala/SML/.conda/lib/python3.11/site-packages/sklearn/linear_model/_sag.py:349: ConvergenceWarning: The max_iter was reached which means the coef_ did not converge\n",
      "  warnings.warn(\n"
     ]
    },
    {
     "name": "stdout",
     "output_type": "stream",
     "text": [
      "[CV] END C=10, class_weight={0: 1, 1: 2.5}, l1_ratio=0.7, max_iter=5000, penalty=elasticnet, solver=saga; total time=   0.3s\n",
      "[CV] END C=10, class_weight={0: 1, 1: 2.5}, l1_ratio=0.7, max_iter=1000, penalty=elasticnet, solver=saga; total time=   0.2s\n",
      "[CV] END C=100, class_weight={0: 1, 1: 1.5}, l1_ratio=0.3, max_iter=5000, penalty=elasticnet, solver=saga; total time=   0.5s\n",
      "[CV] END C=10, class_weight={0: 1, 1: 2.5}, l1_ratio=0.9, max_iter=1000, penalty=elasticnet, solver=saga; total time=   0.2s\n"
     ]
    },
    {
     "name": "stderr",
     "output_type": "stream",
     "text": [
      "/Users/abhinavramalingam/Documents/Uppsala/SML/.conda/lib/python3.11/site-packages/sklearn/linear_model/_sag.py:349: ConvergenceWarning: The max_iter was reached which means the coef_ did not converge\n",
      "  warnings.warn(\n",
      "/Users/abhinavramalingam/Documents/Uppsala/SML/.conda/lib/python3.11/site-packages/sklearn/linear_model/_sag.py:349: ConvergenceWarning: The max_iter was reached which means the coef_ did not converge\n",
      "  warnings.warn(\n",
      "/Users/abhinavramalingam/Documents/Uppsala/SML/.conda/lib/python3.11/site-packages/sklearn/linear_model/_sag.py:349: ConvergenceWarning: The max_iter was reached which means the coef_ did not converge\n",
      "  warnings.warn(\n"
     ]
    },
    {
     "name": "stdout",
     "output_type": "stream",
     "text": [
      "[CV] END C=100, class_weight={0: 1, 1: 2}, l1_ratio=0.1, max_iter=5000, penalty=elasticnet, solver=saga; total time=   0.4s\n",
      "[CV] END C=10, class_weight={0: 1, 1: 2.5}, l1_ratio=0.7, max_iter=1000, penalty=elasticnet, solver=saga; total time=   0.2s\n",
      "[CV] END C=10, class_weight={0: 1, 1: 2.5}, l1_ratio=0.9, max_iter=1000, penalty=elasticnet, solver=saga; total time=   0.2s\n",
      "[CV] END C=100, class_weight={0: 1, 1: 2}, l1_ratio=0.1, max_iter=5000, penalty=elasticnet, solver=saga; total time=   0.6s\n",
      "[CV] END C=100, class_weight={0: 1, 1: 1.5}, l1_ratio=0.1, max_iter=5000, penalty=elasticnet, solver=saga; total time=   0.7s\n",
      "[CV] END C=10, class_weight={0: 1, 1: 2.5}, l1_ratio=0.7, max_iter=1000, penalty=elasticnet, solver=saga; total time=   0.2s\n"
     ]
    },
    {
     "name": "stderr",
     "output_type": "stream",
     "text": [
      "/Users/abhinavramalingam/Documents/Uppsala/SML/.conda/lib/python3.11/site-packages/sklearn/linear_model/_sag.py:349: ConvergenceWarning: The max_iter was reached which means the coef_ did not converge\n",
      "  warnings.warn(\n",
      "/Users/abhinavramalingam/Documents/Uppsala/SML/.conda/lib/python3.11/site-packages/sklearn/linear_model/_sag.py:349: ConvergenceWarning: The max_iter was reached which means the coef_ did not converge\n",
      "  warnings.warn(\n",
      "/Users/abhinavramalingam/Documents/Uppsala/SML/.conda/lib/python3.11/site-packages/sklearn/linear_model/_sag.py:349: ConvergenceWarning: The max_iter was reached which means the coef_ did not converge\n",
      "  warnings.warn(\n"
     ]
    },
    {
     "name": "stdout",
     "output_type": "stream",
     "text": [
      "[CV] END C=100, class_weight={0: 1, 1: 2}, l1_ratio=0.1, max_iter=5000, penalty=elasticnet, solver=saga; total time=   0.7s\n",
      "[CV] END C=100, class_weight={0: 1, 1: 1.5}, l1_ratio=0.3, max_iter=5000, penalty=elasticnet, solver=saga; total time=   0.4s\n",
      "[CV] END C=10, class_weight={0: 1, 1: 2.5}, l1_ratio=0.9, max_iter=1000, penalty=elasticnet, solver=saga; total time=   0.2s\n",
      "[CV] END C=100, class_weight={0: 1, 1: 2}, l1_ratio=0.3, max_iter=1000, penalty=elasticnet, solver=saga; total time=   0.2s\n",
      "[CV] END C=100, class_weight={0: 1, 1: 1.5}, l1_ratio=0.7, max_iter=5000, penalty=elasticnet, solver=saga; total time=   0.8s\n",
      "[CV] END C=100, class_weight={0: 1, 1: 1.5}, l1_ratio=0.5, max_iter=1000, penalty=elasticnet, solver=saga; total time=   0.2s\n",
      "[CV] END C=100, class_weight={0: 1, 1: 2}, l1_ratio=0.3, max_iter=1000, penalty=elasticnet, solver=saga; total time=   0.2s\n"
     ]
    },
    {
     "name": "stderr",
     "output_type": "stream",
     "text": [
      "/Users/abhinavramalingam/Documents/Uppsala/SML/.conda/lib/python3.11/site-packages/sklearn/linear_model/_sag.py:349: ConvergenceWarning: The max_iter was reached which means the coef_ did not converge\n",
      "  warnings.warn(\n",
      "/Users/abhinavramalingam/Documents/Uppsala/SML/.conda/lib/python3.11/site-packages/sklearn/linear_model/_sag.py:349: ConvergenceWarning: The max_iter was reached which means the coef_ did not converge\n",
      "  warnings.warn(\n",
      "/Users/abhinavramalingam/Documents/Uppsala/SML/.conda/lib/python3.11/site-packages/sklearn/linear_model/_sag.py:349: ConvergenceWarning: The max_iter was reached which means the coef_ did not converge\n",
      "  warnings.warn(\n",
      "/Users/abhinavramalingam/Documents/Uppsala/SML/.conda/lib/python3.11/site-packages/sklearn/linear_model/_sag.py:349: ConvergenceWarning: The max_iter was reached which means the coef_ did not converge\n",
      "  warnings.warn(\n",
      "/Users/abhinavramalingam/Documents/Uppsala/SML/.conda/lib/python3.11/site-packages/sklearn/linear_model/_sag.py:349: ConvergenceWarning: The max_iter was reached which means the coef_ did not converge\n",
      "  warnings.warn(\n",
      "/Users/abhinavramalingam/Documents/Uppsala/SML/.conda/lib/python3.11/site-packages/sklearn/linear_model/_sag.py:349: ConvergenceWarning: The max_iter was reached which means the coef_ did not converge\n",
      "  warnings.warn(\n"
     ]
    },
    {
     "name": "stdout",
     "output_type": "stream",
     "text": [
      "[CV] END C=10, class_weight={0: 1, 1: 2.5}, l1_ratio=0.9, max_iter=1000, penalty=elasticnet, solver=saga; total time=   0.2s\n",
      "[CV] END C=100, class_weight={0: 1, 1: 2}, l1_ratio=0.3, max_iter=1000, penalty=elasticnet, solver=saga; total time=   0.2s\n",
      "[CV] END C=100, class_weight={0: 1, 1: 2}, l1_ratio=0.1, max_iter=5000, penalty=elasticnet, solver=saga; total time=   0.5s\n",
      "[CV] END C=100, class_weight={0: 1, 1: 1.5}, l1_ratio=0.5, max_iter=1000, penalty=elasticnet, solver=saga; total time=   0.2s\n",
      "[CV] END C=100, class_weight={0: 1, 1: 1.5}, l1_ratio=0.1, max_iter=5000, penalty=elasticnet, solver=saga; total time=   0.4s\n",
      "[CV] END C=100, class_weight={0: 1, 1: 2}, l1_ratio=0.3, max_iter=1000, penalty=elasticnet, solver=saga; total time=   0.2s\n",
      "[CV] END C=100, class_weight={0: 1, 1: 2}, l1_ratio=0.1, max_iter=5000, penalty=elasticnet, solver=saga; total time=   0.5s\n",
      "[CV] END C=10, class_weight={0: 1, 1: 2.5}, l1_ratio=0.9, max_iter=1000, penalty=elasticnet, solver=saga; total time=   0.2s\n",
      "[CV] END C=100, class_weight={0: 1, 1: 2}, l1_ratio=0.3, max_iter=1000, penalty=elasticnet, solver=saga; total time=   0.2s\n"
     ]
    },
    {
     "name": "stderr",
     "output_type": "stream",
     "text": [
      "/Users/abhinavramalingam/Documents/Uppsala/SML/.conda/lib/python3.11/site-packages/sklearn/linear_model/_sag.py:349: ConvergenceWarning: The max_iter was reached which means the coef_ did not converge\n",
      "  warnings.warn(\n",
      "/Users/abhinavramalingam/Documents/Uppsala/SML/.conda/lib/python3.11/site-packages/sklearn/linear_model/_sag.py:349: ConvergenceWarning: The max_iter was reached which means the coef_ did not converge\n",
      "  warnings.warn(\n",
      "/Users/abhinavramalingam/Documents/Uppsala/SML/.conda/lib/python3.11/site-packages/sklearn/linear_model/_sag.py:349: ConvergenceWarning: The max_iter was reached which means the coef_ did not converge\n",
      "  warnings.warn(\n"
     ]
    },
    {
     "name": "stdout",
     "output_type": "stream",
     "text": [
      "[CV] END C=100, class_weight={0: 1, 1: 1.5}, l1_ratio=0.5, max_iter=1000, penalty=elasticnet, solver=saga; total time=   0.2s\n",
      "[CV] END C=100, class_weight={0: 1, 1: 1.5}, l1_ratio=0.7, max_iter=5000, penalty=elasticnet, solver=saga; total time=   0.5s\n",
      "[CV] END C=100, class_weight={0: 1, 1: 1.5}, l1_ratio=0.5, max_iter=1000, penalty=elasticnet, solver=saga; total time=   0.2s\n"
     ]
    },
    {
     "name": "stderr",
     "output_type": "stream",
     "text": [
      "/Users/abhinavramalingam/Documents/Uppsala/SML/.conda/lib/python3.11/site-packages/sklearn/linear_model/_sag.py:349: ConvergenceWarning: The max_iter was reached which means the coef_ did not converge\n",
      "  warnings.warn(\n",
      "/Users/abhinavramalingam/Documents/Uppsala/SML/.conda/lib/python3.11/site-packages/sklearn/linear_model/_sag.py:349: ConvergenceWarning: The max_iter was reached which means the coef_ did not converge\n",
      "  warnings.warn(\n"
     ]
    },
    {
     "name": "stdout",
     "output_type": "stream",
     "text": [
      "[CV] END C=100, class_weight={0: 1, 1: 2}, l1_ratio=0.3, max_iter=5000, penalty=elasticnet, solver=saga; total time=   0.5s\n",
      "[CV] END C=10, class_weight={0: 1, 1: 2.5}, l1_ratio=0.9, max_iter=5000, penalty=elasticnet, solver=saga; total time=   0.4s\n",
      "[CV] END C=100, class_weight={0: 1, 1: 2}, l1_ratio=0.3, max_iter=5000, penalty=elasticnet, solver=saga; total time=   0.6s\n",
      "[CV] END C=100, class_weight={0: 1, 1: 1.5}, l1_ratio=0.1, max_iter=5000, penalty=elasticnet, solver=saga; total time=   0.5s\n",
      "[CV] END C=100, class_weight={0: 1, 1: 1.5}, l1_ratio=0.5, max_iter=1000, penalty=elasticnet, solver=saga; total time=   0.2s\n",
      "[CV] END C=100, class_weight={0: 1, 1: 2}, l1_ratio=0.3, max_iter=5000, penalty=elasticnet, solver=saga; total time=   0.6s\n",
      "[CV] END C=100, class_weight={0: 1, 1: 2}, l1_ratio=0.5, max_iter=1000, penalty=elasticnet, solver=saga; total time=   0.2s\n"
     ]
    },
    {
     "name": "stderr",
     "output_type": "stream",
     "text": [
      "/Users/abhinavramalingam/Documents/Uppsala/SML/.conda/lib/python3.11/site-packages/sklearn/linear_model/_sag.py:349: ConvergenceWarning: The max_iter was reached which means the coef_ did not converge\n",
      "  warnings.warn(\n",
      "/Users/abhinavramalingam/Documents/Uppsala/SML/.conda/lib/python3.11/site-packages/sklearn/linear_model/_sag.py:349: ConvergenceWarning: The max_iter was reached which means the coef_ did not converge\n",
      "  warnings.warn(\n",
      "/Users/abhinavramalingam/Documents/Uppsala/SML/.conda/lib/python3.11/site-packages/sklearn/linear_model/_sag.py:349: ConvergenceWarning: The max_iter was reached which means the coef_ did not converge\n",
      "  warnings.warn(\n"
     ]
    },
    {
     "name": "stdout",
     "output_type": "stream",
     "text": [
      "[CV] END C=100, class_weight={0: 1, 1: 2}, l1_ratio=0.3, max_iter=5000, penalty=elasticnet, solver=saga; total time=   0.7s\n",
      "[CV] END C=100, class_weight={0: 1, 1: 1.5}, l1_ratio=0.7, max_iter=5000, penalty=elasticnet, solver=saga; total time=   0.6s\n",
      "[CV] END C=100, class_weight={0: 1, 1: 2}, l1_ratio=0.5, max_iter=1000, penalty=elasticnet, solver=saga; total time=   0.2s\n",
      "[CV] END C=100, class_weight={0: 1, 1: 2}, l1_ratio=0.5, max_iter=1000, penalty=elasticnet, solver=saga; total time=   0.2s\n",
      "[CV] END C=100, class_weight={0: 1, 1: 2}, l1_ratio=0.3, max_iter=5000, penalty=elasticnet, solver=saga; total time=   0.4s\n",
      "[CV] END C=100, class_weight={0: 1, 1: 2}, l1_ratio=0.5, max_iter=1000, penalty=elasticnet, solver=saga; total time=   0.2s\n"
     ]
    },
    {
     "name": "stderr",
     "output_type": "stream",
     "text": [
      "/Users/abhinavramalingam/Documents/Uppsala/SML/.conda/lib/python3.11/site-packages/sklearn/linear_model/_sag.py:349: ConvergenceWarning: The max_iter was reached which means the coef_ did not converge\n",
      "  warnings.warn(\n",
      "/Users/abhinavramalingam/Documents/Uppsala/SML/.conda/lib/python3.11/site-packages/sklearn/linear_model/_sag.py:349: ConvergenceWarning: The max_iter was reached which means the coef_ did not converge\n",
      "  warnings.warn(\n",
      "/Users/abhinavramalingam/Documents/Uppsala/SML/.conda/lib/python3.11/site-packages/sklearn/linear_model/_sag.py:349: ConvergenceWarning: The max_iter was reached which means the coef_ did not converge\n",
      "  warnings.warn(\n"
     ]
    },
    {
     "name": "stdout",
     "output_type": "stream",
     "text": [
      "[CV] END C=100, class_weight={0: 1, 1: 1.5}, l1_ratio=0.1, max_iter=5000, penalty=elasticnet, solver=saga; total time=   0.4s\n",
      "[CV] END C=100, class_weight={0: 1, 1: 2}, l1_ratio=0.5, max_iter=1000, penalty=elasticnet, solver=saga; total time=   0.2s\n",
      "[CV] END C=10, class_weight={0: 1, 1: 2.5}, l1_ratio=0.9, max_iter=5000, penalty=elasticnet, solver=saga; total time=   0.6s\n",
      "[CV] END C=100, class_weight={0: 1, 1: 1.5}, l1_ratio=0.3, max_iter=1000, penalty=elasticnet, solver=saga; total time=   0.2s\n",
      "[CV] END C=100, class_weight={0: 1, 1: 1.5}, l1_ratio=0.5, max_iter=5000, penalty=elasticnet, solver=saga; total time=   0.6s\n",
      "[CV] END C=100, class_weight={0: 1, 1: 1.5}, l1_ratio=0.3, max_iter=1000, penalty=elasticnet, solver=saga; total time=   0.2s\n",
      "[CV] END C=100, class_weight={0: 1, 1: 1.5}, l1_ratio=0.7, max_iter=5000, penalty=elasticnet, solver=saga; total time=   0.5s\n",
      "[CV] END C=100, class_weight={0: 1, 1: 2}, l1_ratio=0.5, max_iter=5000, penalty=elasticnet, solver=saga; total time=   0.5s\n"
     ]
    },
    {
     "name": "stderr",
     "output_type": "stream",
     "text": [
      "/Users/abhinavramalingam/Documents/Uppsala/SML/.conda/lib/python3.11/site-packages/sklearn/linear_model/_sag.py:349: ConvergenceWarning: The max_iter was reached which means the coef_ did not converge\n",
      "  warnings.warn(\n",
      "/Users/abhinavramalingam/Documents/Uppsala/SML/.conda/lib/python3.11/site-packages/sklearn/linear_model/_sag.py:349: ConvergenceWarning: The max_iter was reached which means the coef_ did not converge\n",
      "  warnings.warn(\n"
     ]
    },
    {
     "name": "stdout",
     "output_type": "stream",
     "text": [
      "[CV] END C=10, class_weight={0: 1, 1: 2.5}, l1_ratio=0.9, max_iter=5000, penalty=elasticnet, solver=saga; total time=   0.3s\n",
      "[CV] END C=100, class_weight={0: 1, 1: 1.5}, l1_ratio=0.3, max_iter=1000, penalty=elasticnet, solver=saga; total time=   0.2s\n",
      "[CV] END C=100, class_weight={0: 1, 1: 1.5}, l1_ratio=0.9, max_iter=1000, penalty=elasticnet, solver=saga; total time=   0.2s\n",
      "[CV] END C=100, class_weight={0: 1, 1: 2}, l1_ratio=0.5, max_iter=5000, penalty=elasticnet, solver=saga; total time=   0.6s\n",
      "[CV] END C=100, class_weight={0: 1, 1: 2}, l1_ratio=0.5, max_iter=5000, penalty=elasticnet, solver=saga; total time=   0.8s\n"
     ]
    },
    {
     "name": "stderr",
     "output_type": "stream",
     "text": [
      "/Users/abhinavramalingam/Documents/Uppsala/SML/.conda/lib/python3.11/site-packages/sklearn/linear_model/_sag.py:349: ConvergenceWarning: The max_iter was reached which means the coef_ did not converge\n",
      "  warnings.warn(\n",
      "/Users/abhinavramalingam/Documents/Uppsala/SML/.conda/lib/python3.11/site-packages/sklearn/linear_model/_sag.py:349: ConvergenceWarning: The max_iter was reached which means the coef_ did not converge\n",
      "  warnings.warn(\n",
      "/Users/abhinavramalingam/Documents/Uppsala/SML/.conda/lib/python3.11/site-packages/sklearn/linear_model/_sag.py:349: ConvergenceWarning: The max_iter was reached which means the coef_ did not converge\n",
      "  warnings.warn(\n"
     ]
    },
    {
     "name": "stdout",
     "output_type": "stream",
     "text": [
      "[CV] END C=100, class_weight={0: 1, 1: 1.5}, l1_ratio=0.3, max_iter=1000, penalty=elasticnet, solver=saga; total time=   0.2s\n",
      "[CV] END C=100, class_weight={0: 1, 1: 2}, l1_ratio=0.5, max_iter=5000, penalty=elasticnet, solver=saga; total time=   0.7s\n",
      "[CV] END C=100, class_weight={0: 1, 1: 1.5}, l1_ratio=0.9, max_iter=1000, penalty=elasticnet, solver=saga; total time=   0.2s\n",
      "[CV] END C=100, class_weight={0: 1, 1: 2}, l1_ratio=0.7, max_iter=1000, penalty=elasticnet, solver=saga; total time=   0.2s\n",
      "[CV] END C=10, class_weight={0: 1, 1: 2.5}, l1_ratio=0.9, max_iter=5000, penalty=elasticnet, solver=saga; total time=   0.4s\n",
      "[CV] END C=100, class_weight={0: 1, 1: 2}, l1_ratio=0.7, max_iter=1000, penalty=elasticnet, solver=saga; total time=   0.2s\n",
      "[CV] END C=100, class_weight={0: 1, 1: 1.5}, l1_ratio=0.3, max_iter=1000, penalty=elasticnet, solver=saga; total time=   0.2s\n",
      "[CV] END C=100, class_weight={0: 1, 1: 2}, l1_ratio=0.7, max_iter=1000, penalty=elasticnet, solver=saga; total time=   0.2s\n"
     ]
    },
    {
     "name": "stderr",
     "output_type": "stream",
     "text": [
      "/Users/abhinavramalingam/Documents/Uppsala/SML/.conda/lib/python3.11/site-packages/sklearn/linear_model/_sag.py:349: ConvergenceWarning: The max_iter was reached which means the coef_ did not converge\n",
      "  warnings.warn(\n",
      "/Users/abhinavramalingam/Documents/Uppsala/SML/.conda/lib/python3.11/site-packages/sklearn/linear_model/_sag.py:349: ConvergenceWarning: The max_iter was reached which means the coef_ did not converge\n",
      "  warnings.warn(\n",
      "/Users/abhinavramalingam/Documents/Uppsala/SML/.conda/lib/python3.11/site-packages/sklearn/linear_model/_sag.py:349: ConvergenceWarning: The max_iter was reached which means the coef_ did not converge\n",
      "  warnings.warn(\n",
      "/Users/abhinavramalingam/Documents/Uppsala/SML/.conda/lib/python3.11/site-packages/sklearn/linear_model/_sag.py:349: ConvergenceWarning: The max_iter was reached which means the coef_ did not converge\n",
      "  warnings.warn(\n",
      "/Users/abhinavramalingam/Documents/Uppsala/SML/.conda/lib/python3.11/site-packages/sklearn/linear_model/_sag.py:349: ConvergenceWarning: The max_iter was reached which means the coef_ did not converge\n",
      "  warnings.warn(\n",
      "/Users/abhinavramalingam/Documents/Uppsala/SML/.conda/lib/python3.11/site-packages/sklearn/linear_model/_sag.py:349: ConvergenceWarning: The max_iter was reached which means the coef_ did not converge\n",
      "  warnings.warn(\n"
     ]
    },
    {
     "name": "stdout",
     "output_type": "stream",
     "text": [
      "[CV] END C=100, class_weight={0: 1, 1: 1.5}, l1_ratio=0.9, max_iter=1000, penalty=elasticnet, solver=saga; total time=   0.2s\n",
      "[CV] END C=100, class_weight={0: 1, 1: 2}, l1_ratio=0.5, max_iter=5000, penalty=elasticnet, solver=saga; total time=   0.5s\n",
      "[CV] END C=100, class_weight={0: 1, 1: 1.5}, l1_ratio=0.5, max_iter=5000, penalty=elasticnet, solver=saga; total time=   0.7s\n",
      "[CV] END C=100, class_weight={0: 1, 1: 2}, l1_ratio=0.7, max_iter=1000, penalty=elasticnet, solver=saga; total time=   0.2s\n",
      "[CV] END C=100, class_weight={0: 1, 1: 2}, l1_ratio=0.7, max_iter=1000, penalty=elasticnet, solver=saga; total time=   0.2s\n",
      "[CV] END C=100, class_weight={0: 1, 1: 1.5}, l1_ratio=0.9, max_iter=1000, penalty=elasticnet, solver=saga; total time=   0.2s\n"
     ]
    },
    {
     "name": "stderr",
     "output_type": "stream",
     "text": [
      "/Users/abhinavramalingam/Documents/Uppsala/SML/.conda/lib/python3.11/site-packages/sklearn/linear_model/_sag.py:349: ConvergenceWarning: The max_iter was reached which means the coef_ did not converge\n",
      "  warnings.warn(\n",
      "/Users/abhinavramalingam/Documents/Uppsala/SML/.conda/lib/python3.11/site-packages/sklearn/linear_model/_sag.py:349: ConvergenceWarning: The max_iter was reached which means the coef_ did not converge\n",
      "  warnings.warn(\n"
     ]
    },
    {
     "name": "stdout",
     "output_type": "stream",
     "text": [
      "[CV] END C=10, class_weight={0: 1, 1: 2.5}, l1_ratio=0.9, max_iter=5000, penalty=elasticnet, solver=saga; total time=   0.3s\n",
      "[CV] END C=100, class_weight={0: 1, 1: 1.5}, l1_ratio=0.9, max_iter=1000, penalty=elasticnet, solver=saga; total time=   0.2s\n"
     ]
    },
    {
     "name": "stderr",
     "output_type": "stream",
     "text": [
      "/Users/abhinavramalingam/Documents/Uppsala/SML/.conda/lib/python3.11/site-packages/sklearn/linear_model/_sag.py:349: ConvergenceWarning: The max_iter was reached which means the coef_ did not converge\n",
      "  warnings.warn(\n"
     ]
    },
    {
     "name": "stdout",
     "output_type": "stream",
     "text": [
      "[CV] END C=100, class_weight={0: 1, 1: 1.5}, l1_ratio=0.3, max_iter=5000, penalty=elasticnet, solver=saga; total time=   0.6s\n",
      "[CV] END C=100, class_weight={0: 1, 1: 2}, l1_ratio=0.7, max_iter=5000, penalty=elasticnet, solver=saga; total time=   0.4s\n",
      "[CV] END C=100, class_weight={0: 1, 1: 1.5}, l1_ratio=0.5, max_iter=5000, penalty=elasticnet, solver=saga; total time=   0.5s\n",
      "[CV] END C=100, class_weight={0: 1, 1: 2}, l1_ratio=0.7, max_iter=5000, penalty=elasticnet, solver=saga; total time=   0.7s\n",
      "[CV] END C=100, class_weight={0: 1, 1: 2}, l1_ratio=0.9, max_iter=1000, penalty=elasticnet, solver=saga; total time=   0.2s\n",
      "[CV] END C=100, class_weight={0: 1, 1: 2}, l1_ratio=0.7, max_iter=5000, penalty=elasticnet, solver=saga; total time=   0.5s\n",
      "[CV] END C=100, class_weight={0: 1, 1: 2}, l1_ratio=0.7, max_iter=5000, penalty=elasticnet, solver=saga; total time=   0.6s\n"
     ]
    },
    {
     "name": "stderr",
     "output_type": "stream",
     "text": [
      "/Users/abhinavramalingam/Documents/Uppsala/SML/.conda/lib/python3.11/site-packages/sklearn/linear_model/_sag.py:349: ConvergenceWarning: The max_iter was reached which means the coef_ did not converge\n",
      "  warnings.warn(\n",
      "/Users/abhinavramalingam/Documents/Uppsala/SML/.conda/lib/python3.11/site-packages/sklearn/linear_model/_sag.py:349: ConvergenceWarning: The max_iter was reached which means the coef_ did not converge\n",
      "  warnings.warn(\n",
      "/Users/abhinavramalingam/Documents/Uppsala/SML/.conda/lib/python3.11/site-packages/sklearn/linear_model/_sag.py:349: ConvergenceWarning: The max_iter was reached which means the coef_ did not converge\n",
      "  warnings.warn(\n",
      "/Users/abhinavramalingam/Documents/Uppsala/SML/.conda/lib/python3.11/site-packages/sklearn/linear_model/_sag.py:349: ConvergenceWarning: The max_iter was reached which means the coef_ did not converge\n",
      "  warnings.warn(\n",
      "/Users/abhinavramalingam/Documents/Uppsala/SML/.conda/lib/python3.11/site-packages/sklearn/linear_model/_sag.py:349: ConvergenceWarning: The max_iter was reached which means the coef_ did not converge\n",
      "  warnings.warn(\n"
     ]
    },
    {
     "name": "stdout",
     "output_type": "stream",
     "text": [
      "[CV] END C=100, class_weight={0: 1, 1: 2}, l1_ratio=0.9, max_iter=1000, penalty=elasticnet, solver=saga; total time=   0.2s\n",
      "[CV] END C=100, class_weight={0: 1, 1: 2}, l1_ratio=0.7, max_iter=5000, penalty=elasticnet, solver=saga; total time=   0.8s\n",
      "[CV] END C=100, class_weight={0: 1, 1: 2}, l1_ratio=0.9, max_iter=1000, penalty=elasticnet, solver=saga; total time=   0.2s\n",
      "[CV] END C=100, class_weight={0: 1, 1: 2}, l1_ratio=0.9, max_iter=1000, penalty=elasticnet, solver=saga; total time=   0.2s\n",
      "[CV] END C=100, class_weight={0: 1, 1: 2}, l1_ratio=0.9, max_iter=1000, penalty=elasticnet, solver=saga; total time=   0.2s\n",
      "[CV] END C=100, class_weight={0: 1, 1: 1.5}, l1_ratio=0.9, max_iter=5000, penalty=elasticnet, solver=saga; total time=   0.7s\n",
      "[CV] END C=100, class_weight={0: 1, 1: 2.5}, l1_ratio=0.1, max_iter=1000, penalty=elasticnet, solver=saga; total time=   0.2s\n",
      "[CV] END C=100, class_weight={0: 1, 1: 1.5}, l1_ratio=0.5, max_iter=5000, penalty=elasticnet, solver=saga; total time=   0.6s\n",
      "[CV] END C=100, class_weight={0: 1, 1: 2.5}, l1_ratio=0.1, max_iter=1000, penalty=elasticnet, solver=saga; total time=   0.2s\n"
     ]
    },
    {
     "name": "stderr",
     "output_type": "stream",
     "text": [
      "/Users/abhinavramalingam/Documents/Uppsala/SML/.conda/lib/python3.11/site-packages/sklearn/linear_model/_sag.py:349: ConvergenceWarning: The max_iter was reached which means the coef_ did not converge\n",
      "  warnings.warn(\n",
      "/Users/abhinavramalingam/Documents/Uppsala/SML/.conda/lib/python3.11/site-packages/sklearn/linear_model/_sag.py:349: ConvergenceWarning: The max_iter was reached which means the coef_ did not converge\n",
      "  warnings.warn(\n"
     ]
    },
    {
     "name": "stdout",
     "output_type": "stream",
     "text": [
      "[CV] END C=100, class_weight={0: 1, 1: 2}, l1_ratio=0.9, max_iter=5000, penalty=elasticnet, solver=saga; total time=   0.5s\n",
      "[CV] END C=100, class_weight={0: 1, 1: 2}, l1_ratio=0.9, max_iter=5000, penalty=elasticnet, solver=saga; total time=   0.7s\n",
      "[CV] END C=100, class_weight={0: 1, 1: 2}, l1_ratio=0.9, max_iter=5000, penalty=elasticnet, solver=saga; total time=   0.6s\n",
      "[CV] END C=100, class_weight={0: 1, 1: 2.5}, l1_ratio=0.1, max_iter=1000, penalty=elasticnet, solver=saga; total time=   0.2s\n",
      "[CV] END C=100, class_weight={0: 1, 1: 2}, l1_ratio=0.9, max_iter=5000, penalty=elasticnet, solver=saga; total time=   0.7s\n"
     ]
    },
    {
     "name": "stderr",
     "output_type": "stream",
     "text": [
      "/Users/abhinavramalingam/Documents/Uppsala/SML/.conda/lib/python3.11/site-packages/sklearn/linear_model/_sag.py:349: ConvergenceWarning: The max_iter was reached which means the coef_ did not converge\n",
      "  warnings.warn(\n",
      "/Users/abhinavramalingam/Documents/Uppsala/SML/.conda/lib/python3.11/site-packages/sklearn/linear_model/_sag.py:349: ConvergenceWarning: The max_iter was reached which means the coef_ did not converge\n",
      "  warnings.warn(\n",
      "/Users/abhinavramalingam/Documents/Uppsala/SML/.conda/lib/python3.11/site-packages/sklearn/linear_model/_sag.py:349: ConvergenceWarning: The max_iter was reached which means the coef_ did not converge\n",
      "  warnings.warn(\n"
     ]
    },
    {
     "name": "stdout",
     "output_type": "stream",
     "text": [
      "[CV] END C=100, class_weight={0: 1, 1: 2.5}, l1_ratio=0.1, max_iter=1000, penalty=elasticnet, solver=saga; total time=   0.1s\n",
      "[CV] END C=100, class_weight={0: 1, 1: 2.5}, l1_ratio=0.1, max_iter=1000, penalty=elasticnet, solver=saga; total time=   0.3s\n",
      "[CV] END C=100, class_weight={0: 1, 1: 2}, l1_ratio=0.9, max_iter=5000, penalty=elasticnet, solver=saga; total time=   0.8s\n",
      "[CV] END C=100, class_weight={0: 1, 1: 1.5}, l1_ratio=0.5, max_iter=5000, penalty=elasticnet, solver=saga; total time=   0.5s\n"
     ]
    },
    {
     "name": "stderr",
     "output_type": "stream",
     "text": [
      "/Users/abhinavramalingam/Documents/Uppsala/SML/.conda/lib/python3.11/site-packages/sklearn/linear_model/_sag.py:349: ConvergenceWarning: The max_iter was reached which means the coef_ did not converge\n",
      "  warnings.warn(\n",
      "/Users/abhinavramalingam/Documents/Uppsala/SML/.conda/lib/python3.11/site-packages/sklearn/linear_model/_sag.py:349: ConvergenceWarning: The max_iter was reached which means the coef_ did not converge\n",
      "  warnings.warn(\n",
      "/Users/abhinavramalingam/Documents/Uppsala/SML/.conda/lib/python3.11/site-packages/sklearn/linear_model/_sag.py:349: ConvergenceWarning: The max_iter was reached which means the coef_ did not converge\n",
      "  warnings.warn(\n"
     ]
    },
    {
     "name": "stdout",
     "output_type": "stream",
     "text": [
      "[CV] END C=100, class_weight={0: 1, 1: 2.5}, l1_ratio=0.3, max_iter=1000, penalty=elasticnet, solver=saga; total time=   0.2s\n",
      "[CV] END C=100, class_weight={0: 1, 1: 1.5}, l1_ratio=0.9, max_iter=5000, penalty=elasticnet, solver=saga; total time=   0.7s\n",
      "[CV] END C=100, class_weight={0: 1, 1: 1.5}, l1_ratio=0.7, max_iter=1000, penalty=elasticnet, solver=saga; total time=   0.2s\n",
      "[CV] END C=100, class_weight={0: 1, 1: 2.5}, l1_ratio=0.1, max_iter=5000, penalty=elasticnet, solver=saga; total time=   0.4s\n",
      "[CV] END C=100, class_weight={0: 1, 1: 2.5}, l1_ratio=0.3, max_iter=1000, penalty=elasticnet, solver=saga; total time=   0.2s\n",
      "[CV] END C=100, class_weight={0: 1, 1: 2.5}, l1_ratio=0.1, max_iter=5000, penalty=elasticnet, solver=saga; total time=   0.4s\n",
      "[CV] END C=100, class_weight={0: 1, 1: 2.5}, l1_ratio=0.1, max_iter=5000, penalty=elasticnet, solver=saga; total time=   0.6s\n",
      "[CV] END C=100, class_weight={0: 1, 1: 1.5}, l1_ratio=0.7, max_iter=1000, penalty=elasticnet, solver=saga; total time=   0.2s\n",
      "[CV] END C=100, class_weight={0: 1, 1: 2.5}, l1_ratio=0.3, max_iter=1000, penalty=elasticnet, solver=saga; total time=   0.2s\n",
      "[CV] END C=100, class_weight={0: 1, 1: 2.5}, l1_ratio=0.1, max_iter=5000, penalty=elasticnet, solver=saga; total time=   0.6s\n",
      "[CV] END C=100, class_weight={0: 1, 1: 2.5}, l1_ratio=0.1, max_iter=5000, penalty=elasticnet, solver=saga; total time=   0.5s\n",
      "[CV] END C=100, class_weight={0: 1, 1: 2.5}, l1_ratio=0.3, max_iter=1000, penalty=elasticnet, solver=saga; total time=   0.2s\n",
      "[CV] END C=100, class_weight={0: 1, 1: 2.5}, l1_ratio=0.3, max_iter=1000, penalty=elasticnet, solver=saga; total time=   0.2s\n"
     ]
    },
    {
     "name": "stderr",
     "output_type": "stream",
     "text": [
      "/Users/abhinavramalingam/Documents/Uppsala/SML/.conda/lib/python3.11/site-packages/sklearn/linear_model/_sag.py:349: ConvergenceWarning: The max_iter was reached which means the coef_ did not converge\n",
      "  warnings.warn(\n",
      "/Users/abhinavramalingam/Documents/Uppsala/SML/.conda/lib/python3.11/site-packages/sklearn/linear_model/_sag.py:349: ConvergenceWarning: The max_iter was reached which means the coef_ did not converge\n",
      "  warnings.warn(\n",
      "/Users/abhinavramalingam/Documents/Uppsala/SML/.conda/lib/python3.11/site-packages/sklearn/linear_model/_sag.py:349: ConvergenceWarning: The max_iter was reached which means the coef_ did not converge\n",
      "  warnings.warn(\n",
      "/Users/abhinavramalingam/Documents/Uppsala/SML/.conda/lib/python3.11/site-packages/sklearn/linear_model/_sag.py:349: ConvergenceWarning: The max_iter was reached which means the coef_ did not converge\n",
      "  warnings.warn(\n"
     ]
    },
    {
     "name": "stdout",
     "output_type": "stream",
     "text": [
      "[CV] END C=100, class_weight={0: 1, 1: 1.5}, l1_ratio=0.9, max_iter=5000, penalty=elasticnet, solver=saga; total time=   0.5s\n",
      "[CV] END C=100, class_weight={0: 1, 1: 2.5}, l1_ratio=0.5, max_iter=1000, penalty=elasticnet, solver=saga; total time=   0.2s\n",
      "[CV] END C=100, class_weight={0: 1, 1: 2.5}, l1_ratio=0.5, max_iter=1000, penalty=elasticnet, solver=saga; total time=   0.2s\n",
      "[CV] END C=100, class_weight={0: 1, 1: 2.5}, l1_ratio=0.3, max_iter=5000, penalty=elasticnet, solver=saga; total time=   0.4s\n",
      "[CV] END C=100, class_weight={0: 1, 1: 2.5}, l1_ratio=0.5, max_iter=1000, penalty=elasticnet, solver=saga; total time=   0.2s\n",
      "[CV] END C=100, class_weight={0: 1, 1: 2.5}, l1_ratio=0.5, max_iter=1000, penalty=elasticnet, solver=saga; total time=   0.2s\n",
      "[CV] END C=100, class_weight={0: 1, 1: 2.5}, l1_ratio=0.5, max_iter=1000, penalty=elasticnet, solver=saga; total time=   0.2s\n"
     ]
    },
    {
     "name": "stderr",
     "output_type": "stream",
     "text": [
      "/Users/abhinavramalingam/Documents/Uppsala/SML/.conda/lib/python3.11/site-packages/sklearn/linear_model/_sag.py:349: ConvergenceWarning: The max_iter was reached which means the coef_ did not converge\n",
      "  warnings.warn(\n",
      "/Users/abhinavramalingam/Documents/Uppsala/SML/.conda/lib/python3.11/site-packages/sklearn/linear_model/_sag.py:349: ConvergenceWarning: The max_iter was reached which means the coef_ did not converge\n",
      "  warnings.warn(\n",
      "/Users/abhinavramalingam/Documents/Uppsala/SML/.conda/lib/python3.11/site-packages/sklearn/linear_model/_sag.py:349: ConvergenceWarning: The max_iter was reached which means the coef_ did not converge\n",
      "  warnings.warn(\n",
      "/Users/abhinavramalingam/Documents/Uppsala/SML/.conda/lib/python3.11/site-packages/sklearn/linear_model/_sag.py:349: ConvergenceWarning: The max_iter was reached which means the coef_ did not converge\n",
      "  warnings.warn(\n",
      "/Users/abhinavramalingam/Documents/Uppsala/SML/.conda/lib/python3.11/site-packages/sklearn/linear_model/_sag.py:349: ConvergenceWarning: The max_iter was reached which means the coef_ did not converge\n",
      "  warnings.warn(\n"
     ]
    },
    {
     "name": "stdout",
     "output_type": "stream",
     "text": [
      "[CV] END C=100, class_weight={0: 1, 1: 2.5}, l1_ratio=0.3, max_iter=5000, penalty=elasticnet, solver=saga; total time=   0.5s\n",
      "[CV] END C=100, class_weight={0: 1, 1: 2.5}, l1_ratio=0.3, max_iter=5000, penalty=elasticnet, solver=saga; total time=   0.6s\n",
      "[CV] END C=100, class_weight={0: 1, 1: 2.5}, l1_ratio=0.3, max_iter=5000, penalty=elasticnet, solver=saga; total time=   0.6s\n",
      "[CV] END C=100, class_weight={0: 1, 1: 2.5}, l1_ratio=0.3, max_iter=5000, penalty=elasticnet, solver=saga; total time=   0.7s\n"
     ]
    },
    {
     "name": "stderr",
     "output_type": "stream",
     "text": [
      "/Users/abhinavramalingam/Documents/Uppsala/SML/.conda/lib/python3.11/site-packages/sklearn/linear_model/_sag.py:349: ConvergenceWarning: The max_iter was reached which means the coef_ did not converge\n",
      "  warnings.warn(\n",
      "/Users/abhinavramalingam/Documents/Uppsala/SML/.conda/lib/python3.11/site-packages/sklearn/linear_model/_sag.py:349: ConvergenceWarning: The max_iter was reached which means the coef_ did not converge\n",
      "  warnings.warn(\n",
      "/Users/abhinavramalingam/Documents/Uppsala/SML/.conda/lib/python3.11/site-packages/sklearn/linear_model/_sag.py:349: ConvergenceWarning: The max_iter was reached which means the coef_ did not converge\n",
      "  warnings.warn(\n",
      "/Users/abhinavramalingam/Documents/Uppsala/SML/.conda/lib/python3.11/site-packages/sklearn/linear_model/_sag.py:349: ConvergenceWarning: The max_iter was reached which means the coef_ did not converge\n",
      "  warnings.warn(\n",
      "/Users/abhinavramalingam/Documents/Uppsala/SML/.conda/lib/python3.11/site-packages/sklearn/linear_model/_sag.py:349: ConvergenceWarning: The max_iter was reached which means the coef_ did not converge\n",
      "  warnings.warn(\n"
     ]
    },
    {
     "name": "stdout",
     "output_type": "stream",
     "text": [
      "[CV] END C=100, class_weight={0: 1, 1: 2.5}, l1_ratio=0.7, max_iter=1000, penalty=elasticnet, solver=saga; total time=   0.2s\n",
      "[CV] END C=100, class_weight={0: 1, 1: 2.5}, l1_ratio=0.7, max_iter=1000, penalty=elasticnet, solver=saga; total time=   0.2s\n",
      "[CV] END C=100, class_weight={0: 1, 1: 2.5}, l1_ratio=0.5, max_iter=5000, penalty=elasticnet, solver=saga; total time=   0.4s\n",
      "[CV] END C=100, class_weight={0: 1, 1: 2.5}, l1_ratio=0.7, max_iter=1000, penalty=elasticnet, solver=saga; total time=   0.2s\n",
      "[CV] END C=100, class_weight={0: 1, 1: 2.5}, l1_ratio=0.7, max_iter=1000, penalty=elasticnet, solver=saga; total time=   0.2s\n",
      "[CV] END C=100, class_weight={0: 1, 1: 2.5}, l1_ratio=0.7, max_iter=1000, penalty=elasticnet, solver=saga; total time=   0.2s\n",
      "[CV] END C=100, class_weight={0: 1, 1: 2.5}, l1_ratio=0.5, max_iter=5000, penalty=elasticnet, solver=saga; total time=   0.6s\n",
      "[CV] END C=100, class_weight={0: 1, 1: 2.5}, l1_ratio=0.5, max_iter=5000, penalty=elasticnet, solver=saga; total time=   0.5s\n",
      "[CV] END C=100, class_weight={0: 1, 1: 2.5}, l1_ratio=0.5, max_iter=5000, penalty=elasticnet, solver=saga; total time=   0.6s\n",
      "[CV] END C=100, class_weight={0: 1, 1: 2.5}, l1_ratio=0.5, max_iter=5000, penalty=elasticnet, solver=saga; total time=   0.6s\n",
      "[CV] END C=100, class_weight={0: 1, 1: 2.5}, l1_ratio=0.9, max_iter=1000, penalty=elasticnet, solver=saga; total time=   0.2s\n",
      "[CV] END C=100, class_weight={0: 1, 1: 2.5}, l1_ratio=0.9, max_iter=1000, penalty=elasticnet, solver=saga; total time=   0.2s\n"
     ]
    },
    {
     "name": "stderr",
     "output_type": "stream",
     "text": [
      "/Users/abhinavramalingam/Documents/Uppsala/SML/.conda/lib/python3.11/site-packages/sklearn/linear_model/_sag.py:349: ConvergenceWarning: The max_iter was reached which means the coef_ did not converge\n",
      "  warnings.warn(\n",
      "/Users/abhinavramalingam/Documents/Uppsala/SML/.conda/lib/python3.11/site-packages/sklearn/linear_model/_sag.py:349: ConvergenceWarning: The max_iter was reached which means the coef_ did not converge\n",
      "  warnings.warn(\n",
      "/Users/abhinavramalingam/Documents/Uppsala/SML/.conda/lib/python3.11/site-packages/sklearn/linear_model/_sag.py:349: ConvergenceWarning: The max_iter was reached which means the coef_ did not converge\n",
      "  warnings.warn(\n",
      "/Users/abhinavramalingam/Documents/Uppsala/SML/.conda/lib/python3.11/site-packages/sklearn/linear_model/_sag.py:349: ConvergenceWarning: The max_iter was reached which means the coef_ did not converge\n",
      "  warnings.warn(\n",
      "/Users/abhinavramalingam/Documents/Uppsala/SML/.conda/lib/python3.11/site-packages/sklearn/linear_model/_sag.py:349: ConvergenceWarning: The max_iter was reached which means the coef_ did not converge\n",
      "  warnings.warn(\n"
     ]
    },
    {
     "name": "stdout",
     "output_type": "stream",
     "text": [
      "[CV] END C=100, class_weight={0: 1, 1: 2.5}, l1_ratio=0.9, max_iter=1000, penalty=elasticnet, solver=saga; total time=   0.2s\n",
      "[CV] END C=100, class_weight={0: 1, 1: 2.5}, l1_ratio=0.9, max_iter=1000, penalty=elasticnet, solver=saga; total time=   0.2s\n",
      "[CV] END C=100, class_weight={0: 1, 1: 2.5}, l1_ratio=0.9, max_iter=1000, penalty=elasticnet, solver=saga; total time=   0.2s\n",
      "[CV] END C=100, class_weight={0: 1, 1: 2.5}, l1_ratio=0.7, max_iter=5000, penalty=elasticnet, solver=saga; total time=   0.4s\n",
      "[CV] END C=100, class_weight={0: 1, 1: 2.5}, l1_ratio=0.7, max_iter=5000, penalty=elasticnet, solver=saga; total time=   0.6s\n",
      "[CV] END C=100, class_weight={0: 1, 1: 2.5}, l1_ratio=0.7, max_iter=5000, penalty=elasticnet, solver=saga; total time=   0.6s\n",
      "[CV] END C=100, class_weight={0: 1, 1: 2.5}, l1_ratio=0.7, max_iter=5000, penalty=elasticnet, solver=saga; total time=   0.5s\n",
      "[CV] END C=100, class_weight={0: 1, 1: 2.5}, l1_ratio=0.7, max_iter=5000, penalty=elasticnet, solver=saga; total time=   0.7s\n",
      "[CV] END C=100, class_weight={0: 1, 1: 2.5}, l1_ratio=0.9, max_iter=5000, penalty=elasticnet, solver=saga; total time=   0.4s\n",
      "[CV] END C=100, class_weight={0: 1, 1: 2.5}, l1_ratio=0.9, max_iter=5000, penalty=elasticnet, solver=saga; total time=   0.6s\n",
      "[CV] END C=100, class_weight={0: 1, 1: 2.5}, l1_ratio=0.9, max_iter=5000, penalty=elasticnet, solver=saga; total time=   0.5s\n",
      "[CV] END C=100, class_weight={0: 1, 1: 2.5}, l1_ratio=0.9, max_iter=5000, penalty=elasticnet, solver=saga; total time=   0.5s\n",
      "[CV] END C=100, class_weight={0: 1, 1: 2.5}, l1_ratio=0.9, max_iter=5000, penalty=elasticnet, solver=saga; total time=   0.6s\n",
      "Best Parameters: {'C': 10, 'class_weight': {0: 1, 1: 2}, 'l1_ratio': 0.1, 'max_iter': 1000, 'penalty': 'elasticnet', 'solver': 'saga'}\n",
      "Best Cross-Validation F1-Score (High Demand): 0.66\n",
      "Test Accuracy: 0.88\n",
      "Test ROC AUC: 0.90\n",
      "\n",
      "Test Classification Report:\n",
      "              precision    recall  f1-score   support\n",
      "\n",
      "  Low Demand       0.95      0.90      0.93       262\n",
      " High Demand       0.64      0.78      0.70        58\n",
      "\n",
      "    accuracy                           0.88       320\n",
      "   macro avg       0.80      0.84      0.81       320\n",
      "weighted avg       0.89      0.88      0.89       320\n",
      "\n"
     ]
    },
    {
     "name": "stderr",
     "output_type": "stream",
     "text": [
      "/Users/abhinavramalingam/Documents/Uppsala/SML/.conda/lib/python3.11/site-packages/sklearn/linear_model/_sag.py:349: ConvergenceWarning: The max_iter was reached which means the coef_ did not converge\n",
      "  warnings.warn(\n"
     ]
    },
    {
     "data": {
      "image/png": "[encoded data removed]",
      "text/plain": [
       "<Figure size 640x480 with 2 Axes>"
      ]
     },
     "metadata": {},
     "output_type": "display_data"
    },
    {
     "data": {
      "image/png": "[encoded data removed]",
      "text/plain": [
       "<Figure size 800x600 with 1 Axes>"
      ]
     },
     "metadata": {},
     "output_type": "display_data"
    },
    {
     "name": "stdout",
     "output_type": "stream",
     "text": [
      "Precision-Recall AUC: 0.70\n"
     ]
    },
    {
     "data": {
      "image/png": "[encoded data removed]",
      "text/plain": [
       "<Figure size 800x600 with 1 Axes>"
      ]
     },
     "metadata": {},
     "output_type": "display_data"
    }
   ],
   "source": [
    "import pandas as pd\n",
    "df = pd.read_csv('training.csv')\n",
    "df['increase_stock'] = df['increase_stock'].map({'low_bike_demand': 0, 'high_bike_demand': 1})\n",
    "df.head()\n",
    "\n",
    "import os\n",
    "import numpy as np\n",
    "import pandas as pd\n",
    "from sklearn.linear_model import LogisticRegression\n",
    "from sklearn.preprocessing import StandardScaler\n",
    "from sklearn.model_selection import train_test_split, GridSearchCV\n",
    "from sklearn.metrics import (\n",
    "    classification_report,\n",
    "    roc_auc_score,\n",
    "    roc_curve,\n",
    "    precision_recall_curve,\n",
    "    average_precision_score,\n",
    "    accuracy_score,\n",
    "    confusion_matrix,\n",
    "    ConfusionMatrixDisplay,\n",
    "    f1_score,\n",
    "    make_scorer  # Imported make_scorer\n",
    ")\n",
    "import matplotlib.pyplot as plt\n",
    "\n",
    "# Create a directory to save the images\n",
    "output_dir = \"results\"\n",
    "os.makedirs(output_dir, exist_ok=True)\n",
    "\n",
    "# Split the data into training and testing sets (80%-20%)\n",
    "X = df.drop(columns=['increase_stock'])  # Features\n",
    "y = df['increase_stock']  # Target\n",
    "\n",
    "X_train, X_test, y_train, y_test = train_test_split(\n",
    "    X, y, test_size=0.2, random_state=32, stratify=y\n",
    ")\n",
    "\n",
    "# Preprocessing: Cyclic encoding for 'hour_of_day', 'day_of_week', and 'month'\n",
    "for df_split in [X_train, X_test]:\n",
    "    df_split.loc[:, 'hour_sin'] = np.sin(2 * np.pi * df_split['hour_of_day'] / 24)\n",
    "    df_split.loc[:, 'hour_cos'] = np.cos(2 * np.pi * df_split['hour_of_day'] / 24)\n",
    "    df_split.loc[:, 'day_sin'] = np.sin(2 * np.pi * df_split['day_of_week'] / 7)\n",
    "    df_split.loc[:, 'day_cos'] = np.cos(2 * np.pi * df_split['day_of_week'] / 7)\n",
    "    df_split.loc[:, 'month_sin'] = np.sin(2 * np.pi * df_split['month'] / 12)\n",
    "    df_split.loc[:, 'month_cos'] = np.cos(2 * np.pi * df_split['month'] / 12)\n",
    "\n",
    "# Selecting final features (exclude original cyclic columns)\n",
    "final_features = [\n",
    "    'hour_sin', 'hour_cos', 'day_sin', 'day_cos', 'month_sin', 'month_cos',\n",
    "    'weekday', 'summertime', 'temp', 'dew', 'humidity', 'precip', 'snowdepth', 'windspeed', 'visibility'\n",
    "]\n",
    "\n",
    "X_train = X_train[final_features]\n",
    "X_test = X_test[final_features]\n",
    "\n",
    "# Standardize features\n",
    "scaler = StandardScaler()\n",
    "X_train_scaled = scaler.fit_transform(X_train)\n",
    "X_test_scaled = scaler.transform(X_test)\n",
    "\n",
    "# Define logistic regression with elastic net and parameter grid for cross-validation\n",
    "param_grid = {\n",
    "    'solver': ['saga'],  # Solvers to try\n",
    "    'penalty': ['elasticnet'],  # Elastic net penalty\n",
    "    'C': [0.01, 0.1, 1, 10, 100],  # Regularization strength\n",
    "    'l1_ratio': [0.1, 0.3, 0.5, 0.7, 0.9],  # Elastic net mixing ratio\n",
    "    'max_iter': [1000, 5000],  # Number of iterations\n",
    "    'class_weight': [{0: 1, 1: 1.5}, {0: 1, 1: 2}, {0: 1, 1: 2.5}],  # Class weights\n",
    "}\n",
    "\n",
    "model = LogisticRegression()\n",
    "\n",
    "# Create a scorer that optimizes for F1-score of the high-demand class\n",
    "scorer = make_scorer(f1_score, pos_label=1)  # pos_label=1 assumes '1' is high demand\n",
    "\n",
    "# Grid search for F1-score (specific to high-demand class)\n",
    "grid_search = GridSearchCV(\n",
    "    model,\n",
    "    param_grid,\n",
    "    cv=5,\n",
    "    scoring=scorer,  # Use the custom scorer here\n",
    "    verbose=2,\n",
    "    n_jobs=-1,  # Parallelize computation\n",
    ")\n",
    "grid_search.fit(X_train_scaled, y_train)\n",
    "\n",
    "# Best hyperparameters\n",
    "print(f\"Best Parameters: {grid_search.best_params_}\")\n",
    "print(f\"Best Cross-Validation F1-Score (High Demand): {grid_search.best_score_:.2f}\")\n",
    "\n",
    "# Evaluate the best model on the test set\n",
    "best_model = grid_search.best_estimator_\n",
    "y_test_pred = best_model.predict(X_test_scaled)\n",
    "y_test_pred_proba = best_model.predict_proba(X_test_scaled)[:, 1]\n",
    "\n",
    "test_accuracy = accuracy_score(y_test, y_test_pred)\n",
    "test_roc_auc = roc_auc_score(y_test, y_test_pred_proba)\n",
    "test_classification_report = classification_report(\n",
    "    y_test, y_test_pred, target_names=[\"Low Demand\", \"High Demand\"]\n",
    ")\n",
    "\n",
    "print(f\"Test Accuracy: {test_accuracy:.2f}\")\n",
    "print(f\"Test ROC AUC: {test_roc_auc:.2f}\")\n",
    "print(\"\\nTest Classification Report:\")\n",
    "print(test_classification_report)\n",
    "\n",
    "# Confusion Matrix\n",
    "conf_matrix = confusion_matrix(y_test, y_test_pred)\n",
    "disp = ConfusionMatrixDisplay(conf_matrix, display_labels=[\"Low Demand\", \"High Demand\"])\n",
    "disp.plot(cmap=plt.cm.Blues)\n",
    "plt.title(\"Confusion Matrix\")\n",
    "plt.savefig(os.path.join(output_dir, \"confusion_matrix_LR.png\"), dpi=300, bbox_inches=\"tight\")\n",
    "plt.show()\n",
    "\n",
    "# ROC Curve for Best Model\n",
    "fpr, tpr, _ = roc_curve(y_test, y_test_pred_proba)\n",
    "plt.figure(figsize=(8, 6))\n",
    "plt.plot(fpr, tpr, label=f'ROC Curve (AUC = {test_roc_auc:.2f})')\n",
    "plt.plot([0, 1], [0, 1], 'k--', label=\"Random Guess\")\n",
    "plt.xlabel('False Positive Rate')\n",
    "plt.ylabel('True Positive Rate')\n",
    "plt.title('ROC Curve for Best Elastic Net Logistic Regression')\n",
    "plt.legend()\n",
    "plt.grid()\n",
    "plt.savefig(os.path.join(output_dir, \"roc_curve_elastic_net_LR.png\"), dpi=300, bbox_inches=\"tight\")\n",
    "plt.show()\n",
    "\n",
    "# Precision-Recall Curve\n",
    "precision, recall, thresholds = precision_recall_curve(y_test, y_test_pred_proba)\n",
    "pr_auc = average_precision_score(y_test, y_test_pred_proba)\n",
    "print(f\"Precision-Recall AUC: {pr_auc:.2f}\")\n",
    "plt.figure(figsize=(8, 6))\n",
    "plt.plot(recall, precision, label=f'Precision-Recall Curve (AUC = {pr_auc:.2f})')\n",
    "plt.xlabel('Recall')\n",
    "plt.ylabel('Precision')\n",
    "plt.title(\"Precision-Recall Curve\")\n",
    "plt.grid()\n",
    "plt.legend(loc='lower left')\n",
    "plt.savefig(os.path.join(output_dir, \"precision_recall_curve_LR.png\"), dpi=300, bbox_inches=\"tight\")\n",
    "plt.show()"
   ]
  },
  {
   "cell_type": "code",
   "execution_count": null,
   "id": "2ed64f1d-08ad-4ba8-ba96-fc1e6d49c968",
   "metadata": {},
   "outputs": [],
   "source": []
  }
 ],
 "metadata": {
  "kernelspec": {
   "display_name": "Python 3 (ipykernel)",
   "language": "python",
   "name": "python3"
  },
  "language_info": {
   "codemirror_mode": {
    "name": "ipython",
    "version": 3
   },
   "file_extension": ".py",
   "mimetype": "text/x-python",
   "name": "python",
   "nbconvert_exporter": "python",
   "pygments_lexer": "ipython3",
   "version": "3.11.10"
  }
 },
 "nbformat": 4,
 "nbformat_minor": 5
}
